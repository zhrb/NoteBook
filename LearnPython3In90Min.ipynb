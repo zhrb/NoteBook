{
 "cells": [
  {
   "cell_type": "markdown",
   "metadata": {
    "toc": true
   },
   "source": [
    "<h1>Table of Contents<span class=\"tocSkip\"></span></h1>\n",
    "<div class=\"toc\" style=\"margin-top: 1em;\"><ul class=\"toc-item\"><li><span><a href=\"#Python3不完全入门指南\" data-toc-modified-id=\"Python3不完全入门指南-1\">Python3不完全入门指南</a></span></li><li><span><a href=\"#1.第一个Python程序\" data-toc-modified-id=\"1.第一个Python程序-2\">1.第一个Python程序</a></span><ul class=\"toc-item\"><li><span><a href=\"#基本概念\" data-toc-modified-id=\"基本概念-2.1\">基本概念</a></span></li></ul></li><li><span><a href=\"#2.Python数据类型与控制流程\" data-toc-modified-id=\"2.Python数据类型与控制流程-3\">2.Python数据类型与控制流程</a></span><ul class=\"toc-item\"><li><span><a href=\"#2.1-数据类型\" data-toc-modified-id=\"2.1-数据类型-3.1\">2.1 数据类型</a></span><ul class=\"toc-item\"><li><span><a href=\"#2.1-数值类型\" data-toc-modified-id=\"2.1-数值类型-3.1.1\">2.1 数值类型</a></span></li><li><span><a href=\"#2.2-布尔型\" data-toc-modified-id=\"2.2-布尔型-3.1.2\">2.2 布尔型</a></span></li><li><span><a href=\"#2.3-序列类型\" data-toc-modified-id=\"2.3-序列类型-3.1.3\">2.3 序列类型</a></span></li><li><span><a href=\"#2.3.1-序列共同操作\" data-toc-modified-id=\"2.3.1-序列共同操作-3.1.4\">2.3.1 序列共同操作</a></span><ul class=\"toc-item\"><li><span><a href=\"#2.3.2-列表(list)与for循环\" data-toc-modified-id=\"2.3.2-列表(list)与for循环-3.1.4.1\">2.3.2 列表(list)与for循环</a></span></li><li><span><a href=\"#2.3.3-range\" data-toc-modified-id=\"2.3.3-range-3.1.4.2\">2.3.3 range</a></span></li><li><span><a href=\"#2.3.4-while循环\" data-toc-modified-id=\"2.3.4-while循环-3.1.4.3\">2.3.4 while循环</a></span></li><li><span><a href=\"#2.3.5-字符串\" data-toc-modified-id=\"2.3.5-字符串-3.1.4.4\">2.3.5 字符串</a></span></li><li><span><a href=\"#2.3.6-字符串相关常用函数\" data-toc-modified-id=\"2.3.6-字符串相关常用函数-3.1.4.5\">2.3.6 字符串相关常用函数</a></span></li><li><span><a href=\"#2.3.7-字符串与数值型相互转化\" data-toc-modified-id=\"2.3.7-字符串与数值型相互转化-3.1.4.6\">2.3.7 字符串与数值型相互转化</a></span></li><li><span><a href=\"#2.3.8-元组\" data-toc-modified-id=\"2.3.8-元组-3.1.4.7\">2.3.8 元组</a></span></li></ul></li><li><span><a href=\"#2.4-集合(Set)\" data-toc-modified-id=\"2.4-集合(Set)-3.1.5\">2.4 集合(Set)</a></span></li><li><span><a href=\"#2.5-字典(dict)\" data-toc-modified-id=\"2.5-字典(dict)-3.1.6\">2.5 字典(dict)</a></span></li></ul></li><li><span><a href=\"#2.2-控制流程\" data-toc-modified-id=\"2.2-控制流程-3.2\">2.2 控制流程</a></span><ul class=\"toc-item\"><li><span><a href=\"#2.2.1-if..elif..else...\" data-toc-modified-id=\"2.2.1-if..elif..else...-3.2.1\">2.2.1 if..elif..else...</a></span></li><li><span><a href=\"#2.2.2-循环\" data-toc-modified-id=\"2.2.2-循环-3.2.2\">2.2.2 循环</a></span></li><li><span><a href=\"#2.2.3-pass关键字\" data-toc-modified-id=\"2.2.3-pass关键字-3.2.3\">2.2.3 pass关键字</a></span></li></ul></li><li><span><a href=\"#2.3-其他\" data-toc-modified-id=\"2.3-其他-3.3\">2.3 其他</a></span><ul class=\"toc-item\"><li><span><a href=\"#2.3.1-del-关键字\" data-toc-modified-id=\"2.3.1-del-关键字-3.3.1\">2.3.1 del 关键字</a></span></li><li><span><a href=\"#2.3.2-常用内置函数\" data-toc-modified-id=\"2.3.2-常用内置函数-3.3.2\">2.3.2 常用内置函数</a></span></li><li><span><a href=\"#2.3.3-生成列表与列表生成式\" data-toc-modified-id=\"2.3.3-生成列表与列表生成式-3.3.3\">2.3.3 生成列表与列表生成式</a></span></li><li><span><a href=\"#2.3.4-yield关键字\" data-toc-modified-id=\"2.3.4-yield关键字-3.3.4\">2.3.4 yield关键字</a></span></li></ul></li></ul></li><li><span><a href=\"#3.自定义数据类型(面向对象入门)\" data-toc-modified-id=\"3.自定义数据类型(面向对象入门)-4\">3.自定义数据类型(面向对象入门)</a></span><ul class=\"toc-item\"><li><ul class=\"toc-item\"><li><span><a href=\"#类的定义(class关键字)\" data-toc-modified-id=\"类的定义(class关键字)-4.0.1\">类的定义(class关键字)</a></span></li><li><span><a href=\"#继承与多态\" data-toc-modified-id=\"继承与多态-4.0.2\">继承与多态</a></span></li><li><span><a href=\"#private\" data-toc-modified-id=\"private-4.0.3\">private</a></span></li><li><span><a href=\"#动态设置属性\" data-toc-modified-id=\"动态设置属性-4.0.4\">动态设置属性</a></span></li></ul></li></ul></li><li><span><a href=\"#4.使用第三方库完成复杂程序\" data-toc-modified-id=\"4.使用第三方库完成复杂程序-5\">4.使用第三方库完成复杂程序</a></span><ul class=\"toc-item\"><li><span><a href=\"#4.1-使用Numpy库画图正弦曲线\" data-toc-modified-id=\"4.1-使用Numpy库画图正弦曲线-5.1\">4.1 使用Numpy库画图正弦曲线</a></span></li><li><span><a href=\"#4.2-二维码\" data-toc-modified-id=\"4.2-二维码-5.2\">4.2 二维码</a></span></li><li><span><a href=\"#4.3-小海龟\" data-toc-modified-id=\"4.3-小海龟-5.3\">4.3 小海龟</a></span></li><li><span><a href=\"#4.4-验证码识别\" data-toc-modified-id=\"4.4-验证码识别-5.4\">4.4 验证码识别</a></span></li></ul></li><li><span><a href=\"#5.附录:\" data-toc-modified-id=\"5.附录:-6\">5.附录:</a></span><ul class=\"toc-item\"><li><span><a href=\"#5.1-Python的下载与安装\" data-toc-modified-id=\"5.1-Python的下载与安装-6.1\">5.1 Python的下载与安装</a></span></li><li><span><a href=\"#5.2-使用pip管理Python扩展库\" data-toc-modified-id=\"5.2-使用pip管理Python扩展库-6.2\">5.2 使用pip管理Python扩展库</a></span></li><li><span><a href=\"#5.4-IPython\" data-toc-modified-id=\"5.4-IPython-6.3\">5.4 <a href=\"http://ipython.org/\" target=\"_blank\">IPython</a></a></span></li><li><span><a href=\"#5.5-Anaconda集成安装包\" data-toc-modified-id=\"5.5-Anaconda集成安装包-6.4\">5.5 <a href=\"https://www.anaconda.com/\" target=\"_blank\">Anaconda集成安装包</a></a></span></li><li><span><a href=\"#5.6-本笔记相关链接\" data-toc-modified-id=\"5.6-本笔记相关链接-6.5\">5.6 本笔记相关链接</a></span></li><li><span><a href=\"#5.7-Python练习题\" data-toc-modified-id=\"5.7-Python练习题-6.6\">5.7 Python练习题</a></span></li></ul></li></ul></div>"
   ]
  },
  {
   "cell_type": "markdown",
   "metadata": {},
   "source": [
    "# Python3不完全入门指南\n",
    "**作者：**集美大学 郑如滨"
   ]
  },
  {
   "cell_type": "markdown",
   "metadata": {},
   "source": [
    "# 1.第一个Python程序 \n",
    "\n",
    "**Hello, World入门：**\n",
    "1. 启动Python Shell\n",
    "+ 使用cmd启动windows命令行\n",
    "+ 输入python启动Python Shell\n",
    "+ 在`>>>`后面输入`python`命令进行解释执行\n",
    "+ 在`>>>`后面输入`quit()`或者按住`ctrl+z`退出Python Shell\n",
    "<img src=\"PythonShell.png\">"
   ]
  },
  {
   "cell_type": "markdown",
   "metadata": {},
   "source": [
    "## 基本概念\n",
    "1. **缩进:** 这里统一以4个空格作为缩进。下列代码`def hello`下一行的`print`左侧有4个空格，这就是缩进。\n",
    "2. **def:** define,函数定义关键字。下列代码定义了`hello`函数，有两个入参`name, age`。\n",
    "3. **入参：** Python中无需指定入参数据类型。\n",
    "4. **多个返回值:**Python中，函数可以有多个返回值。"
   ]
  },
  {
   "cell_type": "code",
   "execution_count": 2,
   "metadata": {},
   "outputs": [
    {
     "name": "stdout",
     "output_type": "stream",
     "text": [
      "你好!欢迎来到Python3的世界.\n",
      "小明你好，你的年龄是12岁!\n"
     ]
    }
   ],
   "source": [
    "print(\"你好!欢迎来到Python3的世界.\")#直接输出信息到控制台\n",
    "\n",
    "def hello(name, age):#函数定义\n",
    "    print(\"{}你好，你的年龄是{}岁!\".format(name, age))\n",
    "    \n",
    "hello(\"小明\",12) #函数调用"
   ]
  },
  {
   "cell_type": "code",
   "execution_count": 3,
   "metadata": {},
   "outputs": [
    {
     "name": "stdout",
     "output_type": "stream",
     "text": [
      "<class 'tuple'> (1, -1)\n",
      "max,min =  1 -1\n"
     ]
    }
   ],
   "source": [
    "#Python的函数可以同时返回多个值。实际上是以元组的类型返回。\n",
    "def findMaxAndMin(a,b,c):\n",
    "    '''\n",
    "    这里面的内容是注释，不参与实际执行\n",
    "    功能：求出a,b,c中最大与最小值\n",
    "    输入：a,b,c三个数值类型数据\n",
    "    返回：期中的最大值与最小值\n",
    "    '''\n",
    "    max = min = a\n",
    "    if b>max:\n",
    "        max = b\n",
    "    if c>max:\n",
    "        max = c\n",
    "    if b<min:\n",
    "        min = b\n",
    "    if c<min:\n",
    "        min = c\n",
    "    return max,min #我是注释，返回max与min\n",
    "a,b,c = -1,0,1\n",
    "x = findMaxAndMin(a,b,c)\n",
    "print(type(x),x)\n",
    "max, min = findMaxAndMin(a,b,c)\n",
    "print(\"max,min = \",max,min)"
   ]
  },
  {
   "cell_type": "markdown",
   "metadata": {},
   "source": [
    "**基本概念：**\n",
    "\n",
    "1. **变量:** Python中无需为变量事先指定类型。如 `x = 5` (实际上x是int型),`str1 = \"abc\"` (实际上str1为str型，即字符串型)\n",
    "\n",
    "2. **注释:**可以使用#号，如\"#这是一个注释\" 来进行注释。还可使用一对 三个`'` 对多行文本进行注释，如\n",
    "```\n",
    "   '''\n",
    "   功能：求出a,b,c中最大与最小值\n",
    "   输入：a,b,c三个数值类型数据\n",
    "   返回：期中的最大值与最小值\n",
    "   '''\n",
    "```\n",
    "3. **缩进:**Python靠代码块的缩进来体现代码之间的逻辑关系。建议使用4个空格作为标准的缩进量。在IDLE中，可使用Tab键自动缩进4个空格。\n",
    "4. **.py扩展名：** 代表Python源文件。将上述源代码存为`Test.py`文件。然后在命令行下使用命令`python Test.py`进行解释执行。如下图所示\n",
    "<img src='PythonExecute.png'>\n",
    "\n",
    "**注1：** Test.py文件应采用**UTF-8**编码。可在IDLE中选择`File-New File`，新建python源文件，然后保存文件。"
   ]
  },
  {
   "cell_type": "markdown",
   "metadata": {},
   "source": [
    "# 2.Python数据类型与控制流程"
   ]
  },
  {
   "cell_type": "markdown",
   "metadata": {},
   "source": [
    "## 2.1 数据类型"
   ]
  },
  {
   "cell_type": "markdown",
   "metadata": {},
   "source": [
    "### 2.1 数值类型\n",
    "包含3种数值类型：**整数(integer)、浮点(float)、复数(complex)**\n",
    "1. 整数：包括了所有的整数，无范围限制。\n",
    "2. 浮点：有小数的数值。\n",
    "3. 复数：如，2+3j"
   ]
  },
  {
   "cell_type": "code",
   "execution_count": 4,
   "metadata": {},
   "outputs": [
    {
     "name": "stdout",
     "output_type": "stream",
     "text": [
      "3.3333333333333335\n",
      "3\n",
      "1\n",
      "1024\n",
      "(2+3j)\n"
     ]
    }
   ],
   "source": [
    "x,y,z = 10, 3.14,2+3j\n",
    "print(x/3)  #除法\n",
    "print(x//3) #求整\n",
    "print(x%3)  #取余\n",
    "print(2**x) #乘方\n",
    "print(z)"
   ]
  },
  {
   "cell_type": "markdown",
   "metadata": {},
   "source": [
    "**math模块的导入与使用:**\n",
    "\n",
    "进行数学运算时，有时需使用专门进行数学处理的**math库**。\n",
    "\n",
    "**方法1：** import 模块名 [as 别名]。如\n",
    "- import math\n",
    "- import random\n",
    "- import numpy as np"
   ]
  },
  {
   "cell_type": "code",
   "execution_count": 6,
   "metadata": {},
   "outputs": [
    {
     "name": "stdout",
     "output_type": "stream",
     "text": [
      "3.0\n",
      "0.7384764429175998\n",
      "51\n",
      "[1 2 3]\n"
     ]
    }
   ],
   "source": [
    "import math\n",
    "print(math.sqrt(9))\n",
    "\n",
    "import random\n",
    "x=random.random()           #获得从[0,1)内的随机小数\n",
    "print(x)\n",
    "print(random.randint(1,100))#获得[1,100]区间上的随机整数\n",
    "\n",
    "import numpy as np         #导入numpy模块，然后为其取别名np。注意:首先要pip install numpy\n",
    "a = np.array((1,2,3))       #创建array\n",
    "print(a)"
   ]
  },
  {
   "cell_type": "markdown",
   "metadata": {},
   "source": [
    "**方法2：**from 模块名 import 对象名 [as 别名]\n",
    "\n",
    "代码如下，还可from math import *，一次性导入模块中的所有对象。"
   ]
  },
  {
   "cell_type": "code",
   "execution_count": 7,
   "metadata": {},
   "outputs": [
    {
     "name": "stdout",
     "output_type": "stream",
     "text": [
      "3.0\n",
      "0.1411200080598672\n",
      "0.1411200080598672\n"
     ]
    }
   ],
   "source": [
    "from math import *\n",
    "print(sqrt(9))\n",
    "\n",
    "from math import sin\n",
    "print(sin(3))\n",
    "from math import sin as f\n",
    "print(f(3))"
   ]
  },
  {
   "cell_type": "markdown",
   "metadata": {},
   "source": [
    "### 2.2 布尔型\n",
    "只有`True`和`False`"
   ]
  },
  {
   "cell_type": "code",
   "execution_count": 4,
   "metadata": {},
   "outputs": [
    {
     "name": "stdout",
     "output_type": "stream",
     "text": [
      "False\n",
      "True False True False\n",
      "11 比 10 大!\n"
     ]
    }
   ],
   "source": [
    "x1 = False\n",
    "x2 = True\n",
    "b = 100>101\n",
    "print(b)\n",
    "print(1!=2,3!=3,5==5,5==6)\n",
    "x, y = 10, 11\n",
    "if x>y:\n",
    "    print(x,\"比\",y,\"较大!\")\n",
    "else:\n",
    "    print(y,\"比\",x,\"大!\")"
   ]
  },
  {
   "cell_type": "markdown",
   "metadata": {},
   "source": [
    "**其他：逻辑运算符**\n",
    "\n",
    "**and** 与\n",
    "\n",
    "**or**  或\n",
    "\n",
    "**not** 非"
   ]
  },
  {
   "cell_type": "code",
   "execution_count": 4,
   "metadata": {},
   "outputs": [
    {
     "name": "stdout",
     "output_type": "stream",
     "text": [
      "False False True\n"
     ]
    }
   ],
   "source": [
    "x1 = True\n",
    "x2 = False\n",
    "print(not x1,x1 and x2, x1 or x2)"
   ]
  },
  {
   "cell_type": "markdown",
   "metadata": {},
   "source": [
    "### 2.3 序列类型\n",
    "包含三种类型：字符串(str),列表(list),元组(tuple)。共同特点：其中的元素均是按顺序排列（符合线性表定义）\n",
    "\n",
    "- 字符串的形式：两个双引号`\"\"` 或两个单引号 `''`\n",
    "\n",
    "- 列表的形式 []\n",
    "\n",
    "- 元组的形式 ()\n"
   ]
  },
  {
   "cell_type": "markdown",
   "metadata": {},
   "source": [
    "### 2.3.1 序列共同操作\n",
    "在Python中，将有顺序编号的结构称之为**序列**\n",
    "\n",
    "序列通用函数：索引、分片、链接（加）、重复（乘）、in操作\n",
    "\n",
    "序列相关函数：`len(),min(),max(),sum()`"
   ]
  },
  {
   "cell_type": "code",
   "execution_count": 2,
   "metadata": {},
   "outputs": [
    {
     "name": "stdout",
     "output_type": "stream",
     "text": [
      "索引操作： 3 b\n",
      "分片操作： [3, 5] bc\n",
      "链接操作: [1, 3, 5, 7, 9, 11, 12] abcdefgh\n",
      "重复操作: [11, 12, 11, 12] fghfgh\n",
      "in操作: True False\n",
      "5 1 9 25\n",
      "5 a e\n"
     ]
    }
   ],
   "source": [
    "L=[]                 #定义一个空列表\n",
    "L1=[1,3,5,7,9]\n",
    "L2=[11,12]\n",
    "str1 = \"abcde\"\n",
    "str2 = \"fgh\"\n",
    "print('索引操作：', L1[1], str1[1])    \n",
    "print('分片操作：', L1[1:3], str1[1:3]) #L1[i:j]代表从L1列表中截取从位置i到位置j-1之间的所有元素，作为列表返回。\n",
    "print('链接操作:', L1 + L2, str1 + str2)\n",
    "print('重复操作:', L2*2 , str2*2)\n",
    "print('in操作:', 3 in L1, 'x' in str1)\n",
    "print(len(L1), min(L1), max(L1), sum(L1)) \n",
    "print(len(str1),min(str1),max(str1))      #不管是列表、元组，还是字符串都是序列类型。都可以对其使用len,min等函数"
   ]
  },
  {
   "cell_type": "markdown",
   "metadata": {
    "collapsed": true
   },
   "source": [
    "#### 2.3.2 列表(list)与for循环"
   ]
  },
  {
   "cell_type": "code",
   "execution_count": 16,
   "metadata": {},
   "outputs": [
    {
     "name": "stdout",
     "output_type": "stream",
     "text": [
      "1\n",
      "2\n",
      "3\n",
      "4\n",
      "5\n",
      "1 2 3 4 5 1 \n",
      "list1的长度为6,内容为[1, 2, 3, 4, 5, 1]\n",
      "list1中1的个数为2,第2个元素为2\n",
      "逆序: [1, 5, 4, 3, 2, 1]\n",
      "升序排序后的结果: [1, 1, 2, 3, 4, 5]\n",
      "降序排序后的结果 [5, 4, 3, 2, 1, 1]\n",
      "0 <class 'list'>\n"
     ]
    }
   ],
   "source": [
    "list1 = [1,2,3,4,5]\n",
    "for e in list1:#打印出list1中的所有元素\n",
    "    print(e)\n",
    "list1.append(1)  #列表末尾添加1这个元素\n",
    "#输出每个元素都在其后加1空格\n",
    "for e in list1:\n",
    "    print(e,end=' ')\n",
    "print()          #打印回车换行\n",
    "print(\"list1的长度为{},内容为{}\".format(len(list1),list1))\n",
    "print(\"list1中1的个数为{},第2个元素为{}\".format(list1.count(1),list1[1]))\n",
    "list1.reverse()\n",
    "print(\"逆序:\",list1)\n",
    "list1.sort() #就地排序，改变list1中元素的排列\n",
    "print(\"升序排序后的结果:\",list1)\n",
    "list1.sort(reverse = True) #就地排序，改变list1中元素的排列\n",
    "print(\"降序排序后的结果\",list1)\n",
    "ls = list() #创建一个空列表\n",
    "print(len(ls),type(ls))"
   ]
  },
  {
   "cell_type": "markdown",
   "metadata": {},
   "source": [
    "**二维或多维数组**\n",
    "c或者java中有多位数组，python中也有"
   ]
  },
  {
   "cell_type": "code",
   "execution_count": 18,
   "metadata": {},
   "outputs": [
    {
     "name": "stdout",
     "output_type": "stream",
     "text": [
      "[[1, 1, 1], [2, 2, 2], [3, 3, 3]]\n",
      "[1, 1, 1]\n",
      "3\n",
      "1 1 1 \n",
      "2 2 2 \n",
      "3 3 3 \n"
     ]
    }
   ],
   "source": [
    "ls = [[1,1,1],[2,2,2],[3,3,3]]\n",
    "print(ls)\n",
    "print(ls[0])\n",
    "print(ls[2][1])\n",
    "for line in ls:             #遍历多维数组\n",
    "    for e in line:\n",
    "        print(e, end=\" \")\n",
    "    print()"
   ]
  },
  {
   "cell_type": "markdown",
   "metadata": {},
   "source": [
    "#### 2.3.3 range\n",
    "顾名思义，一个可以产生*某个范围*的整数序列对象。\n",
    "\n",
    "**两种用法：**\n",
    "1. range(stop)              #可以产生从0开始直到stop-1个整数序列\n",
    "2. range(start,stop,[,step])#可以产生从start开始，直到stop-1的整数序列，步进为step"
   ]
  },
  {
   "cell_type": "code",
   "execution_count": 12,
   "metadata": {},
   "outputs": [
    {
     "name": "stdout",
     "output_type": "stream",
     "text": [
      "1 2 3 4 \n",
      "1 3 \n",
      "5 4 3 2 \n",
      "a b 3 5 6 \n",
      "使用list函数结合range创建一个有10个大小的list，其内容为 [0, 1, 2, 3, 4, 5, 6, 7, 8, 9]\n"
     ]
    }
   ],
   "source": [
    "for i in range(1,5):#从1开始，默认步进为1\n",
    "    print(i,end=\" \")\n",
    "print()\n",
    "for i in range(1,5,2):#步进为2\n",
    "    print(i,end=\" \")\n",
    "print()\n",
    "for i in range(5,1,-1):#从后往前\n",
    "    print(i,end=\" \")\n",
    "print()\n",
    "#使用range遍历列表\n",
    "list1 = ['a','b',3,5,6]#python的list中的元素可以为不同类型\n",
    "for i in range(len(list1)):\n",
    "    print(list1[i],end = \" \")\n",
    "print()\n",
    "list2 = list(range(10))\n",
    "print(\"使用list函数结合range创建一个有10个大小的list，其内容为\",list2)"
   ]
  },
  {
   "cell_type": "markdown",
   "metadata": {},
   "source": [
    "#### 2.3.4 while循环"
   ]
  },
  {
   "cell_type": "code",
   "execution_count": 14,
   "metadata": {},
   "outputs": [
    {
     "name": "stdout",
     "output_type": "stream",
     "text": [
      "5050\n",
      "输入x退出a\n",
      "继续输入\n",
      "输入x退出x\n",
      "flag = False\n"
     ]
    }
   ],
   "source": [
    "i,temp = 1,0\n",
    "while i<=100:\n",
    "    temp += i\n",
    "    i += 1\n",
    "print(temp)\n",
    "\n",
    "flag = True\n",
    "while flag:\n",
    "    str1 = input(\"输入x退出:\")\n",
    "    if str1 == 'x':\n",
    "        flag = False\n",
    "    else:\n",
    "        print(\"继续输入\")\n",
    "print(\"flag =\",flag)\n"
   ]
  },
  {
   "cell_type": "markdown",
   "metadata": {},
   "source": [
    "#### 2.3.5 字符串\n",
    "使用单引号或双引号包含起来的是字符串，如\"Hello World\"或'Hello World'都代表字符串\n",
    "\n",
    "如果字符串中包含单引号'，可以用\"将其包括起来，如\"book's price\"代表字符串book's price。\n",
    "\n",
    "反之也成立，如'Zhang says \"How are you!\"'代表字符串Zhang says \"How are you!\""
   ]
  },
  {
   "cell_type": "code",
   "execution_count": 4,
   "metadata": {},
   "outputs": [
    {
     "name": "stdout",
     "output_type": "stream",
     "text": [
      "字符串的拼接: 张三的身份证号是350204200110231013\n",
      "张 三 \n",
      "张三 的出生日期是 20011023\n",
      "350204200110231013 前6位为 350204\n",
      "350204200110231013 后4位为 1013\n",
      "A = 65\n",
      "65 = A\n",
      "打印5个str1: 张三张三张三张三张三\n",
      "350204200110231013是一个数\n",
      "请输入一个数字:10\n",
      "10 在 350204200110231013 中\n",
      "请输入一个数字:xy\n",
      "xy 在 xyz 中\n",
      "请输入一个数字:a\n",
      "a既不在350204200110231013也不在xyz中\n",
      "请输入一个数字:q\n",
      "您刚才输入了字符q,现在退出循环!\n"
     ]
    }
   ],
   "source": [
    "str1,str2 = '张三',\"350204200110231013\"#使用''或者\"\"将字符串包含在其中\n",
    "\"\"\"\n",
    "可以使用三个引号\"\n",
    "将多行字符串一起注释\n",
    "\"\"\"\n",
    "print(\"字符串的拼接:\",str1+\"的身份证号是\"+str2)\n",
    "#可以将字符串看成一个字符列表\n",
    "for e in str1:\n",
    "    print(e,end=\" \")\n",
    "print()\n",
    "#字符串既然可以看作列表，可以对其进行切片\n",
    "print(str1,'的出生日期是',str2[6:14])\n",
    "print(str2,'前6位为',str2[:6])\n",
    "print(str2,'后4位为',str2[-4:])\n",
    "\n",
    "#使用ord获得某个字符对应的整数值\n",
    "print('A =',ord('A'))\n",
    "#使用chr获取整数值对应的字符\n",
    "print('65 =',chr(65))\n",
    "print('打印5个str1:',str1*5)\n",
    "\n",
    "#演示字符串自带的函数\n",
    "if str2.isdigit():\n",
    "    print(\"%s是一个数\"%str2)\n",
    "elif str2.isalpha():\n",
    "    print(\"%s全是字母\"%str2)\n",
    "elif str2.isalnum:\n",
    "    print(\"%s包含字母或者数字\"%str2)\n",
    "\n",
    "str3 = 'xyz'\n",
    "while True:\n",
    "    x = input(\"请输入一个数字:\")\n",
    "    if x in str2:\n",
    "        print(x,\"在\",str2,'中')\n",
    "    elif x in str3:\n",
    "        print(x,\"在\",str3,'中')\n",
    "    elif x in \"q\":\n",
    "        print(\"您刚才输入了字符q,现在退出循环!\")\n",
    "        break;\n",
    "    else:\n",
    "        print(\"%s既不在%s也不在%s中\"%(x,str2,str3))\n"
   ]
  },
  {
   "cell_type": "markdown",
   "metadata": {},
   "source": [
    "#### 2.3.6 字符串相关常用函数\n",
    "字符串专有函数：split,join,strip\n",
    "\n",
    "**split()** 通过指定分隔符对字符串进行切片\n",
    "\n",
    "**join()**  方法用于将序列中的元素以指定的字符连接生成一个新的字符串\n",
    "\n",
    "**strip()** 移除字符串头尾指定的字符（默认为空格）"
   ]
  },
  {
   "cell_type": "code",
   "execution_count": 15,
   "metadata": {},
   "outputs": [
    {
     "name": "stdout",
     "output_type": "stream",
     "text": [
      "['a', 'b', 'c', 'def', 'g']\n",
      "['x', 'y', 'z', 'abc', 'def']\n",
      "x-y-z-abc-def\n",
      "abc def\n",
      "1 *  asdfdf 3445\n"
     ]
    }
   ],
   "source": [
    "#split\n",
    "str3 = \"a b c  def g\"\n",
    "str3List = str3.split()       #以1个空格或者多个空格为分隔符切片字符串\n",
    "print(str3List)\n",
    "str3 = 'x,y,z,abc,def'     \n",
    "str3List = str3.split(',')    #以,为分隔符切片字符串\n",
    "print(str3List)\n",
    "\n",
    "#join\n",
    "str1 = '-'\n",
    "print(str1.join(str3List))    #使用-拼接字符\n",
    "\n",
    "str2 = \"    abc def     \"\n",
    "print(str2.strip())           #移除字符串前后所有空格\n",
    "str2 = \"**1 *  asdfdf 3445**\"\n",
    "print(str2.strip('*'))        #移除字符串前后所有*，直到碰到其他字符\n"
   ]
  },
  {
   "cell_type": "markdown",
   "metadata": {},
   "source": [
    "#### 2.3.7 字符串与数值型相互转化"
   ]
  },
  {
   "cell_type": "code",
   "execution_count": 5,
   "metadata": {},
   "outputs": [
    {
     "name": "stdout",
     "output_type": "stream",
     "text": [
      "<class 'str'> <class 'int'> <class 'float'>\n"
     ]
    }
   ],
   "source": [
    "str1 = str(123.5)\n",
    "num1 = int(\"12\")\n",
    "num2 = float(\"12.45\")\n",
    "print(type(str1),type(num1),type(num2))"
   ]
  },
  {
   "cell_type": "markdown",
   "metadata": {},
   "source": [
    "#### 2.3.8 元组\n",
    "与列表类似，但元组的元素不能修改，访问速度快，使用小括号()标识"
   ]
  },
  {
   "cell_type": "code",
   "execution_count": 4,
   "metadata": {},
   "outputs": [
    {
     "name": "stdout",
     "output_type": "stream",
     "text": [
      "<class 'str'> <class 'int'> <class 'list'>\n",
      "张三 19 ['语文', '数学', '英语']\n",
      "<class 'list'>\n",
      "英语\n",
      "张三 19 ['语文', '数学', '英语'] \n",
      "元素修改演示:\n",
      "('张三', 19, ['体育', '数学', '英语'])\n"
     ]
    },
    {
     "ename": "TypeError",
     "evalue": "'tuple' object does not support item assignment",
     "output_type": "error",
     "traceback": [
      "\u001b[0;31m---------------------------------------------------------------------------\u001b[0m",
      "\u001b[0;31mTypeError\u001b[0m                                 Traceback (most recent call last)",
      "\u001b[0;32m<ipython-input-4-246208e01d5b>\u001b[0m in \u001b[0;36m<module>\u001b[0;34m()\u001b[0m\n\u001b[1;32m     12\u001b[0m \u001b[0mstudent1\u001b[0m\u001b[1;33m[\u001b[0m\u001b[1;36m2\u001b[0m\u001b[1;33m]\u001b[0m\u001b[1;33m[\u001b[0m\u001b[1;36m0\u001b[0m\u001b[1;33m]\u001b[0m \u001b[1;33m=\u001b[0m \u001b[1;34m\"体育\"\u001b[0m \u001b[1;31m#可以修改成功。注意：无法修改元组中的列表，而是修改元组中列表中包含的元素\u001b[0m\u001b[1;33m\u001b[0m\u001b[0m\n\u001b[1;32m     13\u001b[0m \u001b[0mprint\u001b[0m\u001b[1;33m(\u001b[0m\u001b[0mstudent1\u001b[0m\u001b[1;33m)\u001b[0m\u001b[1;33m\u001b[0m\u001b[0m\n\u001b[0;32m---> 14\u001b[0;31m \u001b[0mstudent1\u001b[0m\u001b[1;33m[\u001b[0m\u001b[1;36m1\u001b[0m\u001b[1;33m]\u001b[0m \u001b[1;33m=\u001b[0m \u001b[1;36m18\u001b[0m \u001b[1;31m#出错！元组不支持修改其中的元素\u001b[0m\u001b[1;33m\u001b[0m\u001b[0m\n\u001b[0m",
      "\u001b[0;31mTypeError\u001b[0m: 'tuple' object does not support item assignment"
     ]
    }
   ],
   "source": [
    "student1 = (\"张三\",19,['语文','数学','英语'])               #元组中的元素可以为不同类型。列表中元素也可以为不同类型。\n",
    "print(type(student1[0]),type(student1[1]),type(student1[2]))#输出元组中每个元素的类型\n",
    "print(student1[0],student1[1],student1[2])\n",
    "x,y,z = student1        #序列解包\n",
    "print(type(z))\n",
    "print(student1[2][2])\n",
    "for e in student1:     #元组也是序列\n",
    "    print(e,end=\" \")\n",
    "print(\"\")\n",
    "tup1 = (50,);           #只有一个元素的元组，注意：不能使用tup1=(50)，这个表达式指的是tup1存放一个整数50\n",
    "print(\"元素修改演示:\")\n",
    "student1[2][0] = \"体育\" #可以修改成功。注意：这里并没有修改元组中的列表，而是修改元组中列表中所包含的元素\n",
    "print(student1)\n",
    "student1[1] = 18        #出错!元组不支持修改其中的元素"
   ]
  },
  {
   "cell_type": "markdown",
   "metadata": {},
   "source": [
    "### 2.4 集合(Set)\n",
    "集合中的元素不能重复，使用{}包括起来"
   ]
  },
  {
   "cell_type": "code",
   "execution_count": 33,
   "metadata": {},
   "outputs": [
    {
     "name": "stdout",
     "output_type": "stream",
     "text": [
      "set0 {1, 2}\n",
      "charSet {'c', 'b', 'd', 'a', 'e'}\n",
      "set1 {1, 2, 3, 4, 5}\n"
     ]
    }
   ],
   "source": [
    "set0 = {1,2,1}\n",
    "print(\"set0\",set0)\n",
    "charSet = set(\"abcdeabcde\")\n",
    "print(\"charSet\",charSet)\n",
    "ls = [1,2,3,4,5,1,3,5]\n",
    "set1 = set(ls) #常采用set来去重\n",
    "print(\"set1\",set1)\n",
    "set2 = set() #创建一个空集合，不能使用set1 = {} 来创建空集合"
   ]
  },
  {
   "cell_type": "markdown",
   "metadata": {},
   "source": [
    "### 2.5 字典(dict)\n",
    "字典的形式 {}。常用语通过某个值（key）查找对应的值(value)。比如，通过**学号**这个key来查找**学生姓名**这个value。\n",
    "\n",
    "字典中的每一个元素都是一个键值对（Key：Value），类似于y=f(x)\n",
    "\n",
    "x为Key,y为Value。x值不能重复,y的值可以重复\n",
    "\n",
    "示例如下："
   ]
  },
  {
   "cell_type": "code",
   "execution_count": 29,
   "metadata": {},
   "outputs": [
    {
     "name": "stdout",
     "output_type": "stream",
     "text": [
      "95\n",
      "dict_items([('张三', 95), ('王武', 85), ('李四', 95)])\n",
      "dict_keys(['张三', '王武', '李四'])\n",
      "dict_values([95, 85, 95])\n",
      "95\n",
      "None\n",
      "在字典中没找到'张',返回 -1\n",
      "{}\n"
     ]
    }
   ],
   "source": [
    "dict1 = {\"张三\":95,\"李四\":95,\"王武\":85}\n",
    "print(dict1[\"张三\"])#通过key取得对应的value\n",
    "print(dict1.items())#items()获得一个键值对的列表\n",
    "print(dict1.keys())#keys()获得一个键值的列表\n",
    "print(dict1.values())#valuess()获得一个值的列表\n",
    "print(dict1.get(\"张三\"))#找到，返回95\n",
    "print(dict1.get(\"张\"))#没找到，返回None\n",
    "print(\"在字典中没找到'张',返回\",dict1.get(\"张\",-1))#没找到，返回指定的-1\n",
    "emptyDict = dict() #创建一个空字典\n",
    "print(emptyDict)"
   ]
  },
  {
   "cell_type": "markdown",
   "metadata": {},
   "source": [
    "**练习（字典）：**编写一个函数，统计一个字符串中每个字母出现的频率。"
   ]
  },
  {
   "cell_type": "markdown",
   "metadata": {},
   "source": [
    "## 2.2 控制流程"
   ]
  },
  {
   "cell_type": "markdown",
   "metadata": {},
   "source": [
    "### 2.2.1 if..elif..else...\n",
    "if elif else 及break、continue用法基本同C与Java"
   ]
  },
  {
   "cell_type": "code",
   "execution_count": 27,
   "metadata": {},
   "outputs": [
    {
     "name": "stdout",
     "output_type": "stream",
     "text": [
      "3\n",
      "3 是奇数\n"
     ]
    }
   ],
   "source": [
    "x = int(input())\n",
    "if x % 2 == 0:\n",
    "    print(\"{} b是偶数\".format(x))\n",
    "else:\n",
    "    print(\"{} 是奇数\".format(x))"
   ]
  },
  {
   "cell_type": "code",
   "execution_count": 28,
   "metadata": {},
   "outputs": [
    {
     "name": "stdout",
     "output_type": "stream",
     "text": [
      "3\n",
      "大于0\n"
     ]
    }
   ],
   "source": [
    "#多重if..elif..lf语句\n",
    "\n",
    "x = int(input())\n",
    "if x > 0:\n",
    "    print(\"大于0\")\n",
    "elif x == 0:\n",
    "    print(\"等于0\")\n",
    "else:\n",
    "    print(\"小于0\")"
   ]
  },
  {
   "cell_type": "markdown",
   "metadata": {},
   "source": [
    "###  2.2.2 循环\n",
    "和Java中的foreach循环很相似。"
   ]
  },
  {
   "cell_type": "code",
   "execution_count": 38,
   "metadata": {},
   "outputs": [
    {
     "name": "stdout",
     "output_type": "stream",
     "text": [
      "a b c x y z \n"
     ]
    }
   ],
   "source": [
    "ls = list(\"abcxyz\")\n",
    "for e in ls:\n",
    "    print(e, end = \" \")\n",
    "print()"
   ]
  },
  {
   "cell_type": "markdown",
   "metadata": {},
   "source": [
    "但是没有c和java中普遍存在的`for(int i = 0; i < 5;i++)`语法，即，不存在每个元素都有着对应的下标。如何对每个元素赋予下标?"
   ]
  },
  {
   "cell_type": "code",
   "execution_count": 40,
   "metadata": {},
   "outputs": [
    {
     "name": "stdout",
     "output_type": "stream",
     "text": [
      "0 a\n",
      "1 b\n",
      "2 c\n"
     ]
    }
   ],
   "source": [
    "ls = list(\"abc\")\n",
    "for i,e in enumerate(ls):\n",
    "    print(i,e)"
   ]
  },
  {
   "cell_type": "markdown",
   "metadata": {},
   "source": [
    "### 2.2.3 pass关键字\n",
    "什么都不做"
   ]
  },
  {
   "cell_type": "code",
   "execution_count": 45,
   "metadata": {},
   "outputs": [
    {
     "name": "stdout",
     "output_type": "stream",
     "text": [
      "n\n"
     ]
    }
   ],
   "source": [
    "x = input()\n",
    "if x == \"n\":  #如果x==n，则什么都不做\n",
    "    pass\n",
    "else:         \n",
    "    print(x)"
   ]
  },
  {
   "cell_type": "markdown",
   "metadata": {},
   "source": [
    "**常用方法：**定义函数、类的时候还未想好定义，或者某个部分暂时不知道怎么写的使用pass代替"
   ]
  },
  {
   "cell_type": "code",
   "execution_count": 48,
   "metadata": {},
   "outputs": [
    {
     "data": {
      "text/plain": [
       "<function __main__.foo>"
      ]
     },
     "execution_count": 48,
     "metadata": {},
     "output_type": "execute_result"
    }
   ],
   "source": [
    "def foo():\n",
    "    pass\n",
    "\n",
    "class StuClass:\n",
    "    pass\n",
    "\n",
    "foo #调用foo函数，碰到pass，什么也不做"
   ]
  },
  {
   "cell_type": "markdown",
   "metadata": {},
   "source": [
    "## 2.3 其他"
   ]
  },
  {
   "cell_type": "markdown",
   "metadata": {},
   "source": [
    "### 2.3.1 del 关键字\n",
    "\n",
    "del作用于变量名与列表名，将解除变量与值之间的指向关系。当再次使用时，将出现NameError。"
   ]
  },
  {
   "cell_type": "code",
   "execution_count": 2,
   "metadata": {},
   "outputs": [
    {
     "ename": "NameError",
     "evalue": "name 'x' is not defined",
     "output_type": "error",
     "traceback": [
      "\u001b[0;31m---------------------------------------------------------------------------\u001b[0m",
      "\u001b[0;31mNameError\u001b[0m                                 Traceback (most recent call last)",
      "\u001b[0;32m<ipython-input-2-f2b01a39c4c7>\u001b[0m in \u001b[0;36m<module>\u001b[0;34m()\u001b[0m\n\u001b[1;32m      1\u001b[0m \u001b[0mx\u001b[0m \u001b[1;33m=\u001b[0m \u001b[1;36m3\u001b[0m\u001b[1;33m\u001b[0m\u001b[0m\n\u001b[1;32m      2\u001b[0m \u001b[1;32mdel\u001b[0m \u001b[0mx\u001b[0m\u001b[1;33m\u001b[0m\u001b[0m\n\u001b[0;32m----> 3\u001b[0;31m \u001b[0mprint\u001b[0m\u001b[1;33m(\u001b[0m\u001b[0mx\u001b[0m\u001b[1;33m)\u001b[0m\u001b[1;33m\u001b[0m\u001b[0m\n\u001b[0m",
      "\u001b[0;31mNameError\u001b[0m: name 'x' is not defined"
     ]
    }
   ],
   "source": [
    "x = 3\n",
    "del x\n",
    "print(x)"
   ]
  },
  {
   "cell_type": "code",
   "execution_count": 3,
   "metadata": {},
   "outputs": [
    {
     "ename": "NameError",
     "evalue": "name 'list1' is not defined",
     "output_type": "error",
     "traceback": [
      "\u001b[0;31m---------------------------------------------------------------------------\u001b[0m",
      "\u001b[0;31mNameError\u001b[0m                                 Traceback (most recent call last)",
      "\u001b[0;32m<ipython-input-3-5d2f1e3b6ef1>\u001b[0m in \u001b[0;36m<module>\u001b[0;34m()\u001b[0m\n\u001b[1;32m      1\u001b[0m \u001b[0mlist1\u001b[0m \u001b[1;33m=\u001b[0m \u001b[1;33m[\u001b[0m\u001b[1;36m1\u001b[0m\u001b[1;33m,\u001b[0m\u001b[1;36m2\u001b[0m\u001b[1;33m,\u001b[0m\u001b[1;36m3\u001b[0m\u001b[1;33m]\u001b[0m\u001b[1;33m\u001b[0m\u001b[0m\n\u001b[1;32m      2\u001b[0m \u001b[1;32mdel\u001b[0m \u001b[0mlist1\u001b[0m\u001b[1;33m\u001b[0m\u001b[0m\n\u001b[0;32m----> 3\u001b[0;31m \u001b[0mprint\u001b[0m\u001b[1;33m(\u001b[0m\u001b[0mlist1\u001b[0m\u001b[1;33m)\u001b[0m\u001b[1;33m\u001b[0m\u001b[0m\n\u001b[0m",
      "\u001b[0;31mNameError\u001b[0m: name 'list1' is not defined"
     ]
    }
   ],
   "source": [
    "list1 = [1,2,3]\n",
    "del list1 #这里是删除列表，也可以删除某个元组\n",
    "print(list1)"
   ]
  },
  {
   "cell_type": "markdown",
   "metadata": {},
   "source": [
    "将del用于列表中的某个元素，为删除该元素。\n",
    "\n",
    "**注1：**del不能用于元组，因为元组是不可变序列"
   ]
  },
  {
   "cell_type": "code",
   "execution_count": 9,
   "metadata": {},
   "outputs": [
    {
     "name": "stdout",
     "output_type": "stream",
     "text": [
      "[0, 1, 2, 4, 5, 6, 7, 8, 9, 10]\n",
      "[0, 1, 2, 4, 5, 9, 10]\n"
     ]
    }
   ],
   "source": [
    "list1 = [0,1,2,3,4,5,6,7,8,9,10]\n",
    "del list1[3]\n",
    "print(list1)\n",
    "del list1[5:8]  #删除分片\n",
    "print(list1)"
   ]
  },
  {
   "cell_type": "markdown",
   "metadata": {},
   "source": [
    "### 2.3.2 常用内置函数\n",
    "id(x): 获取变量x的id，可通过此函数判定两个变量是否指向同一个对象 \n",
    "\n",
    "sorted(ls): 返回一个新的排序好的列表，并未改变ls。\n",
    "\n",
    "reversed(ls): 返回一个ls的逆序迭代器。**注意：**不是返回一个ls的逆序列表，而是返回一个**逆序迭代器**。\n",
    "\n",
    "eval(strx): 将strx字符串转化成表达式"
   ]
  },
  {
   "cell_type": "code",
   "execution_count": 49,
   "metadata": {},
   "outputs": [
    {
     "name": "stdout",
     "output_type": "stream",
     "text": [
      "x与y的地址一样： 1439564240 1439564240\n",
      "两个列表的地址不一样，地址分别为： 2254050782088 2254061350856\n",
      "排序前: [3, 1, 2]\n",
      "排序后: [1, 2, 3]\n",
      "排序后生成了一个新的列表，并未改变原来的列表ls: 2254050782088 2254061072968\n",
      "Help on built-in function sorted in module builtins:\n",
      "\n",
      "sorted(iterable, key=None, reverse=False)\n",
      "    Return a new list containing all items from the iterable in ascending order.\n",
      "    \n",
      "    A custom key function can be supplied to customise the sort order, and the\n",
      "    reverse flag can be set to request the result in descending order.\n",
      "\n",
      "逆序输出后的结果:213\n",
      "Help on class reversed in module builtins:\n",
      "\n",
      "class reversed(object)\n",
      " |  reversed(sequence) -> reverse iterator over values of the sequence\n",
      " |  \n",
      " |  Return a reverse iterator\n",
      " |  \n",
      " |  Methods defined here:\n",
      " |  \n",
      " |  __getattribute__(self, name, /)\n",
      " |      Return getattr(self, name).\n",
      " |  \n",
      " |  __iter__(self, /)\n",
      " |      Implement iter(self).\n",
      " |  \n",
      " |  __length_hint__(...)\n",
      " |      Private method returning an estimate of len(list(it)).\n",
      " |  \n",
      " |  __new__(*args, **kwargs) from builtins.type\n",
      " |      Create and return a new object.  See help(type) for accurate signature.\n",
      " |  \n",
      " |  __next__(self, /)\n",
      " |      Implement next(self).\n",
      " |  \n",
      " |  __reduce__(...)\n",
      " |      Return state information for pickling.\n",
      " |  \n",
      " |  __setstate__(...)\n",
      " |      Set state information for unpickling.\n",
      "\n"
     ]
    }
   ],
   "source": [
    "x,y = 1,1\n",
    "print(\"x与y的地址一样：\",id(x),id(y))\n",
    "ls = [3,1,2]\n",
    "ls1 = [3,1,2]\n",
    "print(\"两个列表的地址不一样，地址分别为：\",id(ls),id(ls1))\n",
    "ls3 = sorted(ls)\n",
    "print(\"排序前:\",ls)\n",
    "print(\"排序后:\",ls3)\n",
    "print(\"排序后生成了一个新的列表，并未改变原来的列表ls:\",id(ls),id(ls3))\n",
    "help(sorted) #查看sorted函数的帮助\n",
    "ls4 = reversed(ls)\n",
    "print(\"逆序输出后的结果:\", end = \"\")\n",
    "for e in ls4:\n",
    "    print(e, end = \"\")\n",
    "print()\n",
    "help(reversed)"
   ]
  },
  {
   "cell_type": "code",
   "execution_count": 2,
   "metadata": {},
   "outputs": [],
   "source": [
    "# 排序演示，所有序列类型均能进行排序\n",
    "ls = [\"1d\",\"3a\",\"2b\",\"5c\"]\n",
    "name =\"\"\n"
   ]
  },
  {
   "cell_type": "code",
   "execution_count": 1,
   "metadata": {},
   "outputs": [
    {
     "name": "stdout",
     "output_type": "stream",
     "text": [
      "6 3 5\n",
      "abc6\n"
     ]
    }
   ],
   "source": [
    "# eval演示\n",
    "str1,str2  = \"6\",\"1+2\"\n",
    "a = 3\n",
    "str3 = \"a+2\"\n",
    "print(eval(str1),eval(str2),eval(str3))\n",
    "str4 = \"'abc'+str1\"\n",
    "print(eval(str4))"
   ]
  },
  {
   "cell_type": "markdown",
   "metadata": {},
   "source": [
    "### 2.3.3 生成列表与列表生成式\n",
    "有多种方式生成列表。"
   ]
  },
  {
   "cell_type": "code",
   "execution_count": 12,
   "metadata": {
    "scrolled": true
   },
   "outputs": [
    {
     "name": "stdout",
     "output_type": "stream",
     "text": [
      "ls1= [] ls2= [1, 2, 3] ls3= [0, 1, 2, 3, 4, 5, 6, 7, 8, 9]\n",
      "['a', 'b', 'c']\n",
      "[1, 2, 3]\n",
      "[1, 3, 5]\n",
      "ls4= [0, 1, 2, 3, 4, 5, 6, 7, 8, 9] id(ls3)==id(ls4) False\n",
      "[0, 2, 4, 6, 8]\n"
     ]
    }
   ],
   "source": [
    "ls1 = [] #生成一个空的列表\n",
    "ls2 = [1,2,3] #定义的时候直接生成一个列表\n",
    "ls3 = list(range(10)) #利用range函数生成列表\n",
    "print('ls1=',ls1,'ls2=',ls2,'ls3=',ls3)\n",
    "print(list(\"abc\"))    #利用可迭代对象(字符串)生成列表\n",
    "print(list(ls2))      #利用可迭代对象(列表)生成列表\n",
    "print(list((1,3,5)))  #利用可迭代对象(元组)生成列表\n",
    "ls4 = ls3[::] #利用切片生成一个列表\n",
    "print('ls4=',ls4,'id(ls3)==id(ls4)',id(ls3)==id(ls4))\n",
    "for e in ls3:        #将ls3中的所有偶数都加入ls1中\n",
    "    if e % 2 == 0:\n",
    "        ls1.append(e)\n",
    "print(ls1)"
   ]
  },
  {
   "cell_type": "markdown",
   "metadata": {},
   "source": [
    "**列表生成式**"
   ]
  },
  {
   "cell_type": "code",
   "execution_count": 26,
   "metadata": {},
   "outputs": [
    {
     "name": "stdout",
     "output_type": "stream",
     "text": [
      "['0', '1', '2', '3', '4', '5', '6', '7', '8', '9']\n",
      "[0, 2, 4, 6, 8]\n",
      "将nestedls变平 [1, 1, 1, 2, 2, 2, 3, 3, 3]\n"
     ]
    }
   ],
   "source": [
    "ls = list(range(10))\n",
    "strls = [str(e) for e in ls] #将ls中的元素转化为字符串然后放入新生成的列表\n",
    "print(strls)\n",
    "evenls = [e for e in ls if e % 2 == 0]\n",
    "print(evenls)\n",
    "\n",
    "nestedls = [[1,1,1],[2,2,2],[3,3,3]]\n",
    "ls1 = [e for line in nestedls for e in line ]\n",
    "print(\"将nestedls变平\",ls1)"
   ]
  },
  {
   "cell_type": "markdown",
   "metadata": {},
   "source": [
    "### 2.3.4 yield关键字\n",
    "yield常用于函数体内，用来返回值，类似return。但与return不同的是，return直接将值返回并跳出函数，yield将值返回但并不跳出函数。而是当下一次访问的函数的时候时候，从上一次访问的yield语句的下一句继续执行。\n",
    "\n",
    "可以这样理解：yield关键字可以将函数变成一个生成器。即，通过调用带有yield语句的函数获得一个生成器，这个生成器根据代码返回相应的值。但不是一次返回全部的值，而是调用一次返回一次值。\n"
   ]
  },
  {
   "cell_type": "code",
   "execution_count": 21,
   "metadata": {},
   "outputs": [
    {
     "name": "stdout",
     "output_type": "stream",
     "text": [
      "first in\n",
      "1\n",
      "4\n",
      "9\n",
      "16\n",
      "25\n"
     ]
    }
   ],
   "source": [
    "def foo():\n",
    "    print(\"first in\")  #多次调用也只执行1次\n",
    "    i = 1\n",
    "    while True:        #看起来要生成并返回无穷多个数，然而因为使用了yield关键字，只有当调用foo函数的时候，才返回1次值，而不是一下全部返回。\n",
    "        yield i**2     #执行到这句通过yield返回值，然后停下来等待下一次的调用。下一次调用时，再接下去执行，然后再通过yield返回值。\n",
    "        i += 1\n",
    "    print(\"end.\")      #这句永远不会被执行，思考一下为什么？\n",
    "\n",
    "\n",
    "x = 0\n",
    "for e in foo():        #使用for e in foo()这种方式调用，使得foo()看起来像是一个元素的集合，但实际上不是。而是调用1次，计算并返回1次。\n",
    "    print(e)\n",
    "    x += 1\n",
    "    if x == 5:\n",
    "        break"
   ]
  },
  {
   "cell_type": "markdown",
   "metadata": {},
   "source": [
    "#  3.自定义数据类型(面向对象入门)"
   ]
  },
  {
   "cell_type": "markdown",
   "metadata": {},
   "source": [
    "### 类的定义(class关键字)\n",
    "下面示例代码自定义一个Student类，利用Student类可以创建出很多Student类型带的对象,如下面的s1与s2两个对象。\n",
    "\n",
    "**\\__init\\__方法：**Python类中的一种特殊方法，方法名的开始和结束都是双下划线，该方法称为构造函数，当创建类的对象时，它被自动调用\n",
    "\n",
    "**self：**对于一个类的所有方法，包括构造函数，其参数中都有一个self。用来代表对象本身"
   ]
  },
  {
   "cell_type": "code",
   "execution_count": 30,
   "metadata": {},
   "outputs": [
    {
     "name": "stdout",
     "output_type": "stream",
     "text": [
      "Jordan 18\n",
      "sid = 1,name = Jordan, age = 18\n"
     ]
    }
   ],
   "source": [
    "class Student:\n",
    "    def __init__(self, sid, name, age):#构造函数，用于初始化。一定要有self\n",
    "        self.sid = sid    #成员变量sid\n",
    "        self.name = name  #成员变量name\n",
    "        self.age = age    #成员变量age\n",
    "    def printMe(self):   #自定义的一个方法，self必不可少\n",
    "        print(\"sid = {},name = {}, age = {}\".format(self.sid,self.name,self.age))\n",
    "\n",
    "s1 = Student(1,\"Jordan\",18)\n",
    "print(s1.name,s1.age)\n",
    "s1.printMe()\n",
    "s2 = Student(2,\"Rose\",18)"
   ]
  },
  {
   "cell_type": "markdown",
   "metadata": {},
   "source": [
    "### 继承与多态"
   ]
  },
  {
   "cell_type": "code",
   "execution_count": 22,
   "metadata": {},
   "outputs": [
    {
     "name": "stdout",
     "output_type": "stream",
     "text": [
      "sumShapesArea方法体现了多态：\n",
      "329.1593\n",
      "复用了Shape中printMe方法：\n",
      "name= 圆形  area= 314.1593\n",
      "name= 方形  area= 15\n",
      "调用Shape类型对象的__str__方法：\n",
      "name = 圆形 area= 314.1593\n",
      "name = 方形 area= 15\n"
     ]
    }
   ],
   "source": [
    "class Shape:\n",
    "    PI = 3.141593              #类属性\n",
    "    def __init__(self, name):  #相当于Java中的构造函数\n",
    "        self.name = name       #对象属性\n",
    "        \n",
    "    def printMe(self):         #将在子类中被复用\n",
    "        print(\"name=\",self.name,\" area=\", self.getArea())\n",
    "        \n",
    "    def __str__(self):         #类似java的toString方法\n",
    "        return \"name = \"+self.name+\" area= \"+str(self.getArea())\n",
    "    \n",
    "    def getArea(self):\n",
    "        raise AttributeError('子类必须实现这个方法') #抛出异常\n",
    "    \n",
    "class Circle(Shape):\n",
    "    def __init__(self, name, r):\n",
    "        super().__init__(name) #复用父类的__init__函数\n",
    "        self.r = r             #对象属性\n",
    "        \n",
    "    def getArea(self):         #覆盖父类的getArea方法，体现了自己的特点，多态的一种表现\n",
    "        return Shape.PI*self.r*self.r  #使用Shape的类属性PI\n",
    "\n",
    "class Rect(Shape):\n",
    "    def __init__(self, name, width, length):\n",
    "        super().__init__(name)\n",
    "        self.width = width     #对象属性\n",
    "        self.length = length\n",
    "        \n",
    "    def getArea(self):         #覆盖父类的getArea方法\n",
    "        return self.width*self.length\n",
    "\n",
    "def sumShapesArea(shapes):     #体现了多态，虽然都是执行了getArea方法，但是根据不同的实现类调用不同的代码。\n",
    "    area = 0\n",
    "    for e in shapes:\n",
    "        area += e.getArea()\n",
    "    return area\n",
    "    \n",
    "shapes = []\n",
    "shapes.append(Circle('圆形',10))\n",
    "shapes.append(Rect('方形',3,5))\n",
    "print(\"sumShapesArea方法体现了多态：\")\n",
    "print(sumShapesArea(shapes))\n",
    "print(\"复用了Shape中printMe方法：\")\n",
    "for e in shapes:\n",
    "    e.printMe()\n",
    "print(\"调用Shape类型对象的__str__方法：\")\n",
    "for e in shapes:\n",
    "    print(e)"
   ]
  },
  {
   "cell_type": "markdown",
   "metadata": {},
   "source": [
    "### private"
   ]
  },
  {
   "cell_type": "code",
   "execution_count": 51,
   "metadata": {},
   "outputs": [
    {
     "ename": "AttributeError",
     "evalue": "'Foo' object has no attribute 'name'",
     "output_type": "error",
     "traceback": [
      "\u001b[0;31m---------------------------------------------------------------------------\u001b[0m",
      "\u001b[0;31mAttributeError\u001b[0m                            Traceback (most recent call last)",
      "\u001b[0;32m<ipython-input-51-350e3b95bca9>\u001b[0m in \u001b[0;36m<module>\u001b[0;34m()\u001b[0m\n\u001b[1;32m      4\u001b[0m \u001b[1;33m\u001b[0m\u001b[0m\n\u001b[1;32m      5\u001b[0m \u001b[0mx\u001b[0m \u001b[1;33m=\u001b[0m \u001b[0mFoo\u001b[0m\u001b[1;33m(\u001b[0m\u001b[1;34m\"abc\"\u001b[0m\u001b[1;33m)\u001b[0m\u001b[1;33m\u001b[0m\u001b[0m\n\u001b[0;32m----> 6\u001b[0;31m \u001b[0mprint\u001b[0m\u001b[1;33m(\u001b[0m\u001b[0mx\u001b[0m\u001b[1;33m.\u001b[0m\u001b[0mname\u001b[0m\u001b[1;33m)\u001b[0m\u001b[1;33m\u001b[0m\u001b[0m\n\u001b[0m",
      "\u001b[0;31mAttributeError\u001b[0m: 'Foo' object has no attribute 'name'"
     ]
    }
   ],
   "source": [
    "class Foo:\n",
    "    def __init__(self, name):\n",
    "        self._name = name      #_开头的属性为private\n",
    "\n",
    "x = Foo(\"abc\")\n",
    "print(x.name)"
   ]
  },
  {
   "cell_type": "code",
   "execution_count": null,
   "metadata": {
    "collapsed": true
   },
   "outputs": [],
   "source": []
  },
  {
   "cell_type": "markdown",
   "metadata": {},
   "source": [
    "### 动态设置属性\n",
    "Python是动态语言，所以可以动态的为对象定义其不存在的属性。但建议不要这样用。"
   ]
  },
  {
   "cell_type": "code",
   "execution_count": 54,
   "metadata": {},
   "outputs": [
    {
     "name": "stdout",
     "output_type": "stream",
     "text": [
      "zhang\n"
     ]
    }
   ],
   "source": [
    "class Stu:\n",
    "    pass\n",
    "\n",
    "x = Stu()\n",
    "x.name = \"zhang\"\n",
    "print(x.name)"
   ]
  },
  {
   "cell_type": "markdown",
   "metadata": {},
   "source": [
    "# 4.使用第三方库完成复杂程序"
   ]
  },
  {
   "cell_type": "markdown",
   "metadata": {},
   "source": [
    "## 4.1 使用Numpy库画图正弦曲线\n",
    "**依赖库：**\n",
    "    \n",
    "    numpy，matplotlib\n",
    "\n",
    "**步骤：**\n",
    "    \n",
    "     pip install numpy\n",
    "\n",
    "     pip install matplotlib\n",
    "     \n",
    "**注意：**\n",
    "    使用pip安装numpy时，可能会碰到需要C编译器，一个简单的解决方法，就是安装一个Visual Studio 2015。或者直接安装Anaconda集成安装包。\n",
    "\n",
    "**参考资料：**\n",
    "\n",
    "    使用Numpy处理数据: http://old.sebug.net/paper/books/scipydoc/numpy_intro.html#\n",
    "\n",
    "    用Python做科学计算: http://old.sebug.net/paper/books/scipydoc/index.html# \n",
    "\n",
    "    Numpy官方文档: http://www.numpy.org/"
   ]
  },
  {
   "cell_type": "code",
   "execution_count": 32,
   "metadata": {},
   "outputs": [
    {
     "name": "stdout",
     "output_type": "stream",
     "text": [
      "[ 0.   0.1  0.2  0.3  0.4  0.5  0.6  0.7  0.8  0.9  1.   1.1  1.2  1.3  1.4\n",
      "  1.5  1.6  1.7  1.8  1.9  2.   2.1  2.2  2.3  2.4  2.5  2.6  2.7  2.8  2.9\n",
      "  3.   3.1  3.2  3.3  3.4  3.5  3.6  3.7  3.8  3.9  4.   4.1  4.2  4.3  4.4\n",
      "  4.5  4.6  4.7  4.8  4.9  5.   5.1  5.2  5.3  5.4  5.5  5.6  5.7  5.8  5.9\n",
      "  6.   6.1  6.2]\n"
     ]
    },
    {
     "data": {
      "image/png": "[encoded data removed]",
      "text/plain": [
       "<matplotlib.figure.Figure at 0x20cd0890c88>"
      ]
     },
     "metadata": {},
     "output_type": "display_data"
    }
   ],
   "source": [
    "import numpy as np\n",
    "import matplotlib.pyplot as plt\n",
    "\n",
    "x=np.arange(0, 2*np.pi, 0.1) #生成一个从0到2*PI之间以0.1作为间隔的序列\n",
    "print(x)\n",
    "y=np.sin(x)\n",
    "\n",
    "plt.plot(x,y)\n",
    "plt.show()"
   ]
  },
  {
   "cell_type": "markdown",
   "metadata": {},
   "source": [
    "## 4.2 二维码\n",
    "**简介**：Python 二维码生成器 GitHub - sylnsfar/qrcode: artistic QR Code in Python （Animated GIF qr code） 可生成普通二维码、带图片的艺术二维码（黑白与彩色）、动态二维码（黑白与彩色）。\n",
    "\n",
    "<img src=\"QRCode.jpg\" />\n",
    "\n",
    "**安装：**\n",
    "pip install myqr\n",
    "\n",
    "**依赖库：**pillow, numpy, imageio\n",
    "\n",
    "**说明:**\n",
    "安装myqr的时候可能会自动安装相关的依赖库，如果没有自动安装，请自行安装，如pip install pillow\n",
    "\n",
    "**拓展:**\n",
    "生成自己的名片二维码。\n",
    "\n",
    "**参考资料：**\n",
    "\t二维码名片的格式 - vcard\n",
    "http://blog.csdn.net/johnsuna/article/details/8482454"
   ]
  },
  {
   "cell_type": "code",
   "execution_count": 4,
   "metadata": {},
   "outputs": [
    {
     "name": "stdout",
     "output_type": "stream",
     "text": [
      "line 16: mode: byte\n"
     ]
    }
   ],
   "source": [
    "from MyQR import myqr\n",
    "words = 'http://cec.jmu.edu.cn'\n",
    "pic='jmu.png'\n",
    "saveName = 'jmuQRCode.png'\n",
    "saveDir = '.'\n",
    "version, level, qr_name = myqr.run(\n",
    "    words,\n",
    "    version=1,\n",
    "    level='H',\n",
    "    picture=pic,\n",
    "    colorized=True,\n",
    "    contrast=1.0,\n",
    "    brightness=1.0,\n",
    "    save_name=saveName,\n",
    "    save_dir=saveDir\n",
    ")"
   ]
  },
  {
   "cell_type": "markdown",
   "metadata": {},
   "source": [
    "jmu.png如下图：\n",
    "<img src=\"jmu.png\">\n",
    "生成的二维码jmuQRCode.png如下图，可以扫一扫：\n",
    "<img src=\"jmuQRCode.png\">"
   ]
  },
  {
   "cell_type": "markdown",
   "metadata": {},
   "source": [
    "## 4.3 小海龟\n",
    "**安装：** Python默认自带turtle库。如没有，请使用**pip install turtle**安装turtle库\n",
    "\n",
    "实例如下："
   ]
  },
  {
   "cell_type": "code",
   "execution_count": 11,
   "metadata": {
    "collapsed": true
   },
   "outputs": [],
   "source": [
    "from turtle import *\n",
    "fillcolor(\"red\")\n",
    "begin_fill()\n",
    "while True:\n",
    "    forward(200)\n",
    "    right(144)\n",
    "    if abs(pos()) < 1:\n",
    "        break\n",
    "end_fill()"
   ]
  },
  {
   "cell_type": "markdown",
   "metadata": {},
   "source": [
    "效果如下图：\n",
    "<img src=\"RedStar.png\">\n",
    "**参考资料：**\n",
    "\n",
    "官方文档 https://docs.python.org/2/library/turtle.html\n",
    "\n",
    "海龟绘图中文教程参考资料 http://www.jb51.net/article/52659.htm\n"
   ]
  },
  {
   "cell_type": "markdown",
   "metadata": {},
   "source": [
    "## 4.4 验证码识别\n",
    "**安装：**\n",
    "1. 需安装Pillow与pytesseract库\n",
    "2. 安装软件tesseract-ocr，下载地址https://sourceforge.net/projects/tesseract-ocr-alt/files/ 选择里面的tesseract-ocr-setup-3.02.02.exe \n",
    "\n",
    "注：Tesseract是一个开源的OCR(Optical Character Recognition,光学字符识别)引擎,可以识别多种格式的图像文件并将其转换成文本。\n",
    "\n",
    "\n",
    "**库安装步骤：**\n",
    "    \n",
    "    pip install pillow\n",
    "    \n",
    "    pip install pytesseract\n",
    "    \n",
    "**例子：**\n",
    "    现在需要识别如下验证码<img src=\"vcode3.png\">"
   ]
  },
  {
   "cell_type": "code",
   "execution_count": 4,
   "metadata": {},
   "outputs": [
    {
     "name": "stdout",
     "output_type": "stream",
     "text": [
      "图片中的字符是: 3948\n"
     ]
    }
   ],
   "source": [
    "import pytesseract\n",
    "from PIL import Image\n",
    "\n",
    "image = Image.open('vcode3.png')#可将此处替换为vcode2.png实验\n",
    "vcode = pytesseract.image_to_string(image)\n",
    "print('图片中的字符是:',vcode)"
   ]
  },
  {
   "cell_type": "markdown",
   "metadata": {},
   "source": [
    "参考资料：\n",
    "\n",
    "使用Python识别验证码 http://www.tuicool.com/articles/E3MNziM\n",
    "\n",
    "利用Tesseract来识别验证码  http://blog.csdn.net/zhangxb35/article/details/49592071 \n",
    "\n",
    "说明：识别能力还较弱。如下图，就无法识别。\n",
    "<img src= \"vcode2.png\">\n",
    "如需增强识别能力，还需学习线性代数、图像、模式识别等知识。\n"
   ]
  },
  {
   "cell_type": "markdown",
   "metadata": {},
   "source": [
    "# 5.附录:"
   ]
  },
  {
   "cell_type": "markdown",
   "metadata": {},
   "source": [
    "## 5.1 Python的下载与安装\n",
    "**官网:** https://www.python.org/ Python官网。尽量在官网下载文件。\n",
    "\n",
    "**版本说明：** 2.7.x 或 3.5.x。注意：如果操作系统是xp，请安装3.4.x版本。操作系统是32位请安装32位，是64位请安装64位安装文件。\n",
    "\n",
    "**安装过程中**：要选择\"Add python.exe to Path\"\n",
    "\n",
    "**控制台启动python：**在CMD命令行提示符下输入python,将显示Python控制台。控制台上将显示所安装的Python版本号。\n",
    "<img src=\"PythonShell.png\">\n",
    "\n",
    "**IDLE(Python GUI)：**在开始菜单中Python项目下点击IDLE，可启动Python图形界面,如下图所示。可在其中编写简单的Python文件。常用快捷键:Alt+P，查看上一条命令。Alt+/，自动补全曾经出现过的单词。\n",
    "<img src=\"IDLE.png\">\n",
    "\n",
    "\n",
    "## 5.2 使用pip管理Python扩展库\n",
    "**三种常见的pip命令:**\n",
    "\n",
    "`pip install SomePackage` #安装SomePackage模块,如**pip install numpy**\n",
    "\n",
    "`pip install -upgrade SomePackage` #升级SomePackage模块\n",
    "\n",
    "`pip uninstall SomePackage` #卸载SomePackage模块\n",
    "\n",
    "**注1：**在CMD命令行提示符下输入上述命令，如 `C:\\temp>pip install numpy`\n",
    "\n",
    "**注2：**pip安装慢时，可指定国内源，如下命令指定使用豆瓣的源\n",
    "`pip install numpy -i https://pypi.douban.com/simple`\n",
    "\n",
    "**注3：**如果提示“拒绝访问”或者碰到其他的安装错误时，尝试以**管理员身份运行**命令提示符，然后安装。\n",
    "\n",
    "**注4:** Python3下也可使用pip3或者pip3.5命令代替pip命令，Python3下执行pip相当于执行pip3。均在Python安装目录下的Scripts目录中可以找到相应的文件。\n"
   ]
  },
  {
   "cell_type": "markdown",
   "metadata": {},
   "source": [
    "## 5.4 [IPython](http://ipython.org/)\n",
    "一个功能更强大的Python命令行交互程序。可以尝试一下。\n"
   ]
  },
  {
   "cell_type": "markdown",
   "metadata": {},
   "source": [
    "## 5.5 [Anaconda集成安装包](https://www.anaconda.com/)\n",
    "一个Python的发行版本。集成了如numpy等科学计算、IPython、Jupyter Notebook、Spyder(一个小型的Python IDE)常用软件的集成安装包。无需考虑各种依赖，使用方便。推荐科学计算的研究人员直接使用。"
   ]
  },
  {
   "cell_type": "markdown",
   "metadata": {},
   "source": [
    "## 5.6 本笔记相关链接\n",
    "- 笔记项目的github地址：[https://github.com/zhrb/NoteBook](https://github.com/zhrb/NoteBook)\n",
    "- 笔记内容留言反馈地址：[http://www.cnblogs.com/zhrb/p/6223192.html](http://www.cnblogs.com/zhrb/p/6223192.html)"
   ]
  },
  {
   "cell_type": "markdown",
   "metadata": {},
   "source": [
    "## 5.7 Python练习题\n",
    "\n",
    "[Python安装与使用的常见问题](http://www.cnblogs.com/zhrb/p/6891948.html)\n",
    "\n",
    "[PTA中提交Python3程序的一些套路](http://www.cnblogs.com/zhrb/p/7837981.html)\n",
    "\n",
    "**Python练习 邀请码：**da3ce820092697b8\n",
    "\n",
    "**使用邀请码做题步骤：**在pintia.cn右上角“个人中心”-“应邀做题”-输入邀请码"
   ]
  }
 ],
 "metadata": {
  "anaconda-cloud": {},
  "kernelspec": {
   "display_name": "Python 3",
   "language": "python",
   "name": "python3"
  },
  "language_info": {
   "codemirror_mode": {
    "name": "ipython",
    "version": 3
   },
   "file_extension": ".py",
   "mimetype": "text/x-python",
   "name": "python",
   "nbconvert_exporter": "python",
   "pygments_lexer": "ipython3",
   "version": "3.6.3"
  },
  "toc": {
   "nav_menu": {},
   "number_sections": false,
   "sideBar": true,
   "skip_h1_title": false,
   "toc_cell": true,
   "toc_position": {
    "height": "593px",
    "left": "0px",
    "right": "1076px",
    "top": "110px",
    "width": "212px"
   },
   "toc_section_display": "block",
   "toc_window_display": true
  }
 },
 "nbformat": 4,
 "nbformat_minor": 1
}

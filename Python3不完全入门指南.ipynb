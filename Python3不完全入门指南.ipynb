{
 "cells": [
  {
   "cell_type": "markdown",
   "metadata": {},
   "source": [
    "# Python3不完全入门指南\n",
    "**作者：**集美大学 郑如滨"
   ]
  },
  {
   "cell_type": "markdown",
   "metadata": {},
   "source": [
    "# 1.第一个Python程序 \n",
    "基本概念\n",
    "1. 缩进:这里统一以4个空格作为缩进。\n",
    "2. def:define,函数定义关键字\n",
    "3. 入参：无需指定入参数据类型\n",
    "\n",
    "操作：\n",
    "1. 启动Python Shell\n",
    "+ 使用cmd启动windows命令行\n",
    "+ 输入python启动Python Shell\n",
    "+ 在>>>后面输入python命令进行解释执行\n",
    "+ 在>>>后面输入quit()或者按住ctrl+z退出Python Shell\n",
    "<img src=\"PythonShell.png\">"
   ]
  },
  {
   "cell_type": "code",
   "execution_count": 1,
   "metadata": {
    "collapsed": false
   },
   "outputs": [
    {
     "name": "stdout",
     "output_type": "stream",
     "text": [
      "你好!欢迎来到Python3世界.\n",
      "小明你好，你的年龄是12岁!\n"
     ]
    }
   ],
   "source": [
    "print(\"你好!欢迎来到Python3的世界.\")#直接输出信息到控制台\n",
    "\n",
    "def hello(name, age):\n",
    "    print(\"%s你好，你的年龄是%d岁!\"%(name,age))\n",
    "    \n",
    "hello(\"小明\",12)"
   ]
  },
  {
   "cell_type": "code",
   "execution_count": 3,
   "metadata": {
    "collapsed": false
   },
   "outputs": [
    {
     "name": "stdout",
     "output_type": "stream",
     "text": [
      "(1, -1)\n",
      "max,min =  1 -1\n"
     ]
    }
   ],
   "source": [
    "#Python的函数可以同时返回多个值\n",
    "def findMaxAndMin(a,b,c):\n",
    "    '''\n",
    "    这里面的内容是注释，不参与实际执行\n",
    "    功能：求出a,b,c中最大与最小值\n",
    "    输入：a,b,c三个数值类型数据\n",
    "    返回：期中的最大值与最小值\n",
    "    '''\n",
    "    max = min = a\n",
    "    if b>max:\n",
    "        max = b\n",
    "    if c>max:\n",
    "        max = c\n",
    "    if b<min:\n",
    "        min = b\n",
    "    if c<min:\n",
    "        min = c\n",
    "    return max,min#我是注释，返回max与min\n",
    "a,b,c = -1,0,1\n",
    "print(findMaxAndMin(a,b,c))\n",
    "max, min = findMaxAndMin(a,b,c)\n",
    "print(\"max,min = \",max,min)"
   ]
  },
  {
   "cell_type": "markdown",
   "metadata": {},
   "source": [
    "**基本概念：**\n",
    "\n",
    "**变量:** Python中无需为变量事先指定类型。如 x = 5 (实际上x是int型),str1 = \"abc\" (实际上str1为str型，即字符串型)\n",
    "\n",
    "**注释:**可以使用#号，如\"#这是一个注释\" 来进行注释。还可使用一对 三个' 进行多行文本进行注释，如\n",
    "\n",
    "```\n",
    "   '''\n",
    "   功能：求出a,b,c中最大与最小值\n",
    "   输入：a,b,c三个数值类型数据\n",
    "   返回：期中的最大值与最小值\n",
    "   '''\n",
    "```\n",
    "\n",
    "**缩进:**Python靠代码块的缩进来体现代码之间的逻辑关系。建议使用4个空格作为标准的缩进量。在IDLE中，可使用Tab键。\n",
    "\n",
    "\n",
    "**扩展名.py：** Python源文件。将上述源代码存为`Test.py`文件。然后在命令行下使用命令**python Test.py**进行解释执行。如下图所示\n",
    "<img src='PythonExecute.png'>\n",
    "\n",
    "**注意：** Test.py文件应采用**UTF-8**编码。可在IDLE中选择File-New File，新建python源文件，然后保存文件。"
   ]
  },
  {
   "cell_type": "markdown",
   "metadata": {},
   "source": [
    "# 2.Python基本数据类型与操作"
   ]
  },
  {
   "cell_type": "markdown",
   "metadata": {},
   "source": [
    "## 2.1 数值类型\n",
    "包含3种类型：整数(integer)、浮点(float)、复数(complex)\n",
    "1. 整数：包括了所有的整数。\n",
    "2. 浮点：\n",
    "3. 复数：2+3j"
   ]
  },
  {
   "cell_type": "code",
   "execution_count": 1,
   "metadata": {
    "collapsed": false
   },
   "outputs": [
    {
     "name": "stdout",
     "output_type": "stream",
     "text": [
      "3.3333333333333335\n",
      "3\n",
      "1\n",
      "1024\n",
      "(2+3j)\n"
     ]
    }
   ],
   "source": [
    "x,y,z = 10, 3.14,2+3j\n",
    "print(x/3)#除法\n",
    "print(x//3)#求整\n",
    "print(x%3)#取余\n",
    "print(2**x)#乘方\n",
    "print(z)"
   ]
  },
  {
   "cell_type": "markdown",
   "metadata": {},
   "source": [
    "**模块导入与使用:**\n",
    "\n",
    "**方法1：** import 模块名 [as 别名]。如\n",
    "- import math\n",
    "- import random\n",
    "- import numpy as np"
   ]
  },
  {
   "cell_type": "code",
   "execution_count": 11,
   "metadata": {
    "collapsed": false
   },
   "outputs": [
    {
     "name": "stdout",
     "output_type": "stream",
     "text": [
      "3.0\n",
      "0.2519910703080923\n",
      "67\n",
      "[1 2 3]\n"
     ]
    }
   ],
   "source": [
    "import math\n",
    "print(math.sqrt(9))\n",
    "import random\n",
    "x=random.random()#获得从[0,1)内的随机小数\n",
    "print(x)\n",
    "print(random.randint(1,100))#获得[1,100]区间上的随机整数\n",
    "import numpy as np  #导入numpy模块，然后为其取别名np。注意:首先要pip install numpy\n",
    "a = np.array((1,2,3))\n",
    "print(a)"
   ]
  },
  {
   "cell_type": "markdown",
   "metadata": {},
   "source": [
    "**模块导入与使用:**\n",
    "\n",
    "**方法2：**from 模块名 import 对象名 [as 别名]\n",
    "\n",
    "代码如下，还可from math import *，一次性导入模块中的所有对象。"
   ]
  },
  {
   "cell_type": "code",
   "execution_count": 10,
   "metadata": {
    "collapsed": false
   },
   "outputs": [
    {
     "name": "stdout",
     "output_type": "stream",
     "text": [
      "0.1411200080598672\n",
      "0.1411200080598672\n"
     ]
    }
   ],
   "source": [
    "from math import sin\n",
    "print(sin(3))\n",
    "from math import sin as f\n",
    "print(f(3))"
   ]
  },
  {
   "cell_type": "markdown",
   "metadata": {},
   "source": [
    "## 2.2 布尔型\n",
    "只有True和False"
   ]
  },
  {
   "cell_type": "code",
   "execution_count": 2,
   "metadata": {
    "collapsed": false
   },
   "outputs": [
    {
     "name": "stdout",
     "output_type": "stream",
     "text": [
      "False\n",
      "True False True False\n",
      "11 比 10 大!\n"
     ]
    }
   ],
   "source": [
    "b = 100>101\n",
    "print(b)\n",
    "print(1!=2,3!=3,5==5,5==6)\n",
    "x,y = 10,11\n",
    "if x>y:\n",
    "    print(x,\"比\",y,\"较大!\")\n",
    "else:\n",
    "    print(y,\"比\",x,\"大!\")"
   ]
  },
  {
   "cell_type": "markdown",
   "metadata": {},
   "source": [
    "## 2.3 序列类型\n",
    "包含三种类型：字符串(string),列表(list),元组(tuple)\n",
    "\n",
    "列表的形式 []\n",
    "\n",
    "字符串的形式 \"\" 或 ''\n",
    "\n",
    "元组的形式 ()\n"
   ]
  },
  {
   "cell_type": "markdown",
   "metadata": {},
   "source": [
    "### 2.3.1 列表\n",
    "在Python中，将这种有顺序编号的结构称之为\"序列\"\n",
    "\n",
    "序列主要包括：列表、元组、字符串\n",
    "\n",
    "序列通用函数：索引、分片、链接（加）、重复（乘）、in操作\n",
    "\n",
    "序列相关函数：len(),min(),max(),sum()"
   ]
  },
  {
   "cell_type": "code",
   "execution_count": 2,
   "metadata": {
    "collapsed": false
   },
   "outputs": [
    {
     "name": "stdout",
     "output_type": "stream",
     "text": [
      "索引操作： 3 b\n",
      "分片操作： [3, 5] bc\n",
      "链接操作: [1, 3, 5, 7, 9, 11, 12] abcdefgh\n",
      "重复操作: [11, 12, 11, 12] fghfgh\n",
      "in操作: True False\n",
      "5 1 9 25\n",
      "5 a e\n"
     ]
    }
   ],
   "source": [
    "L=[]#一个空的列表\n",
    "L1=[1,3,5,7,9]\n",
    "L2=[11,12]\n",
    "str1 = \"abcde\"\n",
    "str2 = \"fgh\"\n",
    "print('索引操作：',L1[1],str1[1])#索引\n",
    "print('分片操作：',L1[1:3],str1[1:3])#L1[i:j]代表从L1列表中截取从位置i到位置j-1之间的所有元素，作为列表返回。\n",
    "print('链接操作:',L1+L2,str1+str2)\n",
    "print('重复操作:',L2*2,str2*2)\n",
    "print('in操作:',3 in L1, 'x' in str1)\n",
    "print(len(L1),min(L1),max(L1),sum(L1))\n",
    "#len(),min(),max(),sum()\n",
    "print(len(str1),min(str1),max(str1))"
   ]
  },
  {
   "cell_type": "markdown",
   "metadata": {
    "collapsed": true
   },
   "source": [
    "### 2.3.2 列表与For循环"
   ]
  },
  {
   "cell_type": "code",
   "execution_count": 34,
   "metadata": {
    "collapsed": false
   },
   "outputs": [
    {
     "name": "stdout",
     "output_type": "stream",
     "text": [
      "1\n",
      "2\n",
      "3\n",
      "4\n",
      "5\n",
      "1 2 3 4 5 1 \n",
      "list1的长度为6,内容为[1, 2, 3, 4, 5, 1]\n",
      "list1中1的个数为2,第2个元素为2\n",
      "排序: [1, 1, 2, 3, 4, 5]\n",
      "逆序: [5, 4, 3, 2, 1, 1]\n"
     ]
    }
   ],
   "source": [
    "list1 = [1,2,3,4,5]\n",
    "for e in list1:\n",
    "    print(e)\n",
    "list1.append(1)#列表末尾添加1这个元素\n",
    "#在每个元素末尾加空格\n",
    "for e in list1:\n",
    "    print(e,end=' ')\n",
    "print()#打印回车换行\n",
    "print(\"list1的长度为%d,内容为%s\"%(len(list1),list1))\n",
    "print(\"list1中1的个数为%d,第2个元素为%d\"%(list1.count(1),list1[1]))\n",
    "list1.sort()\n",
    "print(\"排序:\",list1)\n",
    "list1.reverse()\n",
    "print(\"逆序:\",list1)\n"
   ]
  },
  {
   "cell_type": "markdown",
   "metadata": {},
   "source": [
    "### 2.3.3 range\n",
    "顾名思义，一个可以产生*某个范围*的整数序列的对象。\n",
    "\n",
    "**两种用法：**\n",
    "1. range(stop)#可以产生从0开始直到stop-1个整数序列\n",
    "2. range(start,stop,[,step])#可以产生从start开始，直到stop-1个的整数序列，步进为step"
   ]
  },
  {
   "cell_type": "code",
   "execution_count": 12,
   "metadata": {
    "collapsed": false
   },
   "outputs": [
    {
     "name": "stdout",
     "output_type": "stream",
     "text": [
      "1 2 3 4 \n",
      "1 3 \n",
      "5 4 3 2 \n",
      "a b 3 5 6 \n",
      "使用list函数结合range创建一个有10个大小的list，其内容为 [0, 1, 2, 3, 4, 5, 6, 7, 8, 9]\n"
     ]
    }
   ],
   "source": [
    "for i in range(1,5):#从1开始，默认步进为1\n",
    "    print(i,end=\" \")\n",
    "print()\n",
    "for i in range(1,5,2):#步进为2\n",
    "    print(i,end=\" \")\n",
    "print()\n",
    "for i in range(5,1,-1):#从后往前\n",
    "    print(i,end=\" \")\n",
    "print()\n",
    "#使用range遍历列表\n",
    "list1 = ['a','b',3,5,6]#python的list中的元素可以为不同类型\n",
    "for i in range(len(list1)):\n",
    "    print(list1[i],end = \" \")\n",
    "print()\n",
    "list2 = list(range(10))\n",
    "print(\"使用list函数结合range创建一个有10个大小的list，其内容为\",list2)"
   ]
  },
  {
   "cell_type": "markdown",
   "metadata": {},
   "source": [
    "### 2.3.4 While循环"
   ]
  },
  {
   "cell_type": "code",
   "execution_count": 24,
   "metadata": {
    "collapsed": false
   },
   "outputs": [
    {
     "name": "stdout",
     "output_type": "stream",
     "text": [
      "5050\n",
      "输入x退出1\n",
      "继续输入\n",
      "输入x退出x\n",
      "flag= False\n"
     ]
    }
   ],
   "source": [
    "i,temp = 1,0\n",
    "while i<=100:\n",
    "    temp += i\n",
    "    i += 1\n",
    "print(temp)\n",
    "\n",
    "flag = True\n",
    "while flag:\n",
    "    str1 = input(\"输入x退出\")\n",
    "    if str1 == 'x':\n",
    "        flag = False\n",
    "    else:\n",
    "        print(\"继续输入\")\n",
    "print(\"flag=\",flag)\n"
   ]
  },
  {
   "cell_type": "markdown",
   "metadata": {},
   "source": [
    "### 2.3.5 字符串\n",
    "使用单引号或双引号包含起来的是字符串，如\"Hello World\"或'Hello World'都代表字符串\n",
    "\n",
    "如果字符串中包含单引号'，可以用\"将其包括起来，如\"book's price\"代表字符串book's price。\n",
    "\n",
    "反之也成立，如'Zhang says \"How are you!\"'代表字符串Zhang says \"How are you!\""
   ]
  },
  {
   "cell_type": "code",
   "execution_count": 4,
   "metadata": {
    "collapsed": false
   },
   "outputs": [
    {
     "name": "stdout",
     "output_type": "stream",
     "text": [
      "字符串的拼接: 张三的身份证号是350204200110231013\n",
      "张 三 \n",
      "张三 的出生日期是 20011023\n",
      "350204200110231013 前6位为 350204\n",
      "350204200110231013 后4位为 1013\n",
      "A = 65\n",
      "65 = A\n",
      "打印5个str1: 张三张三张三张三张三\n",
      "350204200110231013是一个数\n",
      "请输入一个数字:10\n",
      "10 在 350204200110231013 中\n",
      "请输入一个数字:xy\n",
      "xy 在 xyz 中\n",
      "请输入一个数字:a\n",
      "a既不在350204200110231013也不在xyz中\n",
      "请输入一个数字:q\n",
      "您刚才输入了字符q,现在退出循环!\n"
     ]
    }
   ],
   "source": [
    "str1,str2 = '张三',\"350204200110231013\"#使用''或者\"\"将字符串包含在其中\n",
    "\"\"\"\n",
    "可以使用三个引号\"\n",
    "将多行字符串一起注释\n",
    "\"\"\"\n",
    "print(\"字符串的拼接:\",str1+\"的身份证号是\"+str2)\n",
    "#可以将字符串看成一个字符列表\n",
    "for e in str1:\n",
    "    print(e,end=\" \")\n",
    "print()\n",
    "#字符串既然可以看作列表，可以对其进行切片\n",
    "print(str1,'的出生日期是',str2[6:14])\n",
    "print(str2,'前6位为',str2[:6])\n",
    "print(str2,'后4位为',str2[-4:])\n",
    "\n",
    "#使用ord获得某个字符对应的整数值\n",
    "print('A =',ord('A'))\n",
    "#使用chr获取整数值对应的字符\n",
    "print('65 =',chr(65))\n",
    "print('打印5个str1:',str1*5)\n",
    "\n",
    "#演示字符串自带的函数\n",
    "if str2.isdigit():\n",
    "    print(\"%s是一个数\"%str2)\n",
    "elif str2.isalpha():\n",
    "    print(\"%s全是字母\"%str2)\n",
    "elif str2.isalnum:\n",
    "    print(\"%s包含字母或者数字\"%str2)\n",
    "\n",
    "str3 = 'xyz'\n",
    "while True:\n",
    "    x = input(\"请输入一个数字:\")\n",
    "    if x in str2:\n",
    "        print(x,\"在\",str2,'中')\n",
    "    elif x in str3:\n",
    "        print(x,\"在\",str3,'中')\n",
    "    elif x in \"q\":\n",
    "        print(\"您刚才输入了字符q,现在退出循环!\")\n",
    "        break;\n",
    "    else:\n",
    "        print(\"%s既不在%s也不在%s中\"%(x,str2,str3))\n"
   ]
  },
  {
   "cell_type": "markdown",
   "metadata": {},
   "source": [
    "### 2.3.6 字符串相关常用函数\n",
    "字符串专有函数：split,join,strip\n",
    "\n",
    "split() 通过指定分隔符对字符串进行切片\n",
    "\n",
    "join()  方法用于将序列中的元素以指定的字符连接生成一个新的字符串\n",
    "\n",
    "split 移除字符串头尾指定的字符（默认为空格）"
   ]
  },
  {
   "cell_type": "code",
   "execution_count": 10,
   "metadata": {
    "collapsed": false
   },
   "outputs": [
    {
     "name": "stdout",
     "output_type": "stream",
     "text": [
      "['a', 'b', 'c', 'def', 'g']\n",
      "['x', 'y', 'z', 'abc', 'def']\n",
      "x-y-z-abc-def\n",
      "abc def\n",
      "    asdfdf 3445\n"
     ]
    }
   ],
   "source": [
    "#split\n",
    "str3 = \"a b c def g\"\n",
    "str3List = str3.split()\n",
    "print(str3List)\n",
    "str3 = 'x,y,z,abc,def'\n",
    "str3List = str3.split(',')\n",
    "print(str3List)\n",
    "#join\n",
    "\n",
    "str1 = '-'\n",
    "print(str1.join(str3List))\n",
    "\n",
    "str2 = \"    abc def     \"\n",
    "print(str2.strip())\n",
    "str2 = \"*    asdfdf 3445*\"\n",
    "print(str2.strip('*'))\n"
   ]
  },
  {
   "cell_type": "markdown",
   "metadata": {},
   "source": [
    "### 2.3.7 字符串与数值型相互转化"
   ]
  },
  {
   "cell_type": "code",
   "execution_count": 5,
   "metadata": {
    "collapsed": false
   },
   "outputs": [
    {
     "name": "stdout",
     "output_type": "stream",
     "text": [
      "<class 'str'> <class 'int'> <class 'float'>\n"
     ]
    }
   ],
   "source": [
    "str1 = str(123.5)\n",
    "num1 = int(\"12\")\n",
    "num2 = float(\"12.45\")\n",
    "print(type(str1),type(num1),type(num2))"
   ]
  },
  {
   "cell_type": "markdown",
   "metadata": {},
   "source": [
    "### 2.3.8 元组\n",
    "与列表类似，但元组的元素不能修改，访问速度快，使用小括号()"
   ]
  },
  {
   "cell_type": "code",
   "execution_count": 4,
   "metadata": {
    "collapsed": false
   },
   "outputs": [
    {
     "name": "stdout",
     "output_type": "stream",
     "text": [
      "<class 'str'> <class 'int'> <class 'list'>\n",
      "张三 19 ['语文', '数学', '英语']\n",
      "<class 'list'>\n",
      "英语\n",
      "张三 19 ['语文', '数学', '英语'] \n",
      "元素修改演示:\n",
      "('张三', 19, ['体育', '数学', '英语'])\n"
     ]
    },
    {
     "ename": "TypeError",
     "evalue": "'tuple' object does not support item assignment",
     "output_type": "error",
     "traceback": [
      "\u001b[0;31m---------------------------------------------------------------------------\u001b[0m",
      "\u001b[0;31mTypeError\u001b[0m                                 Traceback (most recent call last)",
      "\u001b[0;32m<ipython-input-4-246208e01d5b>\u001b[0m in \u001b[0;36m<module>\u001b[0;34m()\u001b[0m\n\u001b[1;32m     12\u001b[0m \u001b[0mstudent1\u001b[0m\u001b[1;33m[\u001b[0m\u001b[1;36m2\u001b[0m\u001b[1;33m]\u001b[0m\u001b[1;33m[\u001b[0m\u001b[1;36m0\u001b[0m\u001b[1;33m]\u001b[0m \u001b[1;33m=\u001b[0m \u001b[1;34m\"体育\"\u001b[0m \u001b[1;31m#可以修改成功。注意：无法修改元组中的列表，而是修改元组中列表中包含的元素\u001b[0m\u001b[1;33m\u001b[0m\u001b[0m\n\u001b[1;32m     13\u001b[0m \u001b[0mprint\u001b[0m\u001b[1;33m(\u001b[0m\u001b[0mstudent1\u001b[0m\u001b[1;33m)\u001b[0m\u001b[1;33m\u001b[0m\u001b[0m\n\u001b[0;32m---> 14\u001b[0;31m \u001b[0mstudent1\u001b[0m\u001b[1;33m[\u001b[0m\u001b[1;36m1\u001b[0m\u001b[1;33m]\u001b[0m \u001b[1;33m=\u001b[0m \u001b[1;36m18\u001b[0m \u001b[1;31m#出错！元组不支持修改其中的元素\u001b[0m\u001b[1;33m\u001b[0m\u001b[0m\n\u001b[0m",
      "\u001b[0;31mTypeError\u001b[0m: 'tuple' object does not support item assignment"
     ]
    }
   ],
   "source": [
    "student1 = (\"张三\",19,['语文','数学','英语'])#元组中的元素可以为不同类型。列表中元素也可以为不同类型。\n",
    "print(type(student1[0]),type(student1[1]),type(student1[2]))#输出元组中每个元素的类型\n",
    "print(student1[0],student1[1],student1[2])\n",
    "x,y,z = student1 #序列解包\n",
    "print(type(z))\n",
    "print(student1[2][2])\n",
    "for e in student1:#元组也是序列\n",
    "    print(e,end=\" \")\n",
    "print(\"\")\n",
    "tup1 = (50,);#只有一个元素的元组，注意：不能使用tup1=(50)，这个表达式指的是tup1存放一个整数50\n",
    "print(\"元素修改演示:\")\n",
    "student1[2][0] = \"体育\" #可以修改成功。注意：无法修改元组中的列表，而是修改元组中列表中包含的元素\n",
    "print(student1)\n",
    "student1[1] = 18 #出错！元组不支持修改其中的元素"
   ]
  },
  {
   "cell_type": "markdown",
   "metadata": {},
   "source": [
    "### 2.3.8 del关键字\n",
    "\n",
    "del用于变量名与列表名，解除与值之间的指向关系。当再次使用时，将出现NameError。"
   ]
  },
  {
   "cell_type": "code",
   "execution_count": 2,
   "metadata": {
    "collapsed": false
   },
   "outputs": [
    {
     "ename": "NameError",
     "evalue": "name 'x' is not defined",
     "output_type": "error",
     "traceback": [
      "\u001b[0;31m---------------------------------------------------------------------------\u001b[0m",
      "\u001b[0;31mNameError\u001b[0m                                 Traceback (most recent call last)",
      "\u001b[0;32m<ipython-input-2-f2b01a39c4c7>\u001b[0m in \u001b[0;36m<module>\u001b[0;34m()\u001b[0m\n\u001b[1;32m      1\u001b[0m \u001b[0mx\u001b[0m \u001b[1;33m=\u001b[0m \u001b[1;36m3\u001b[0m\u001b[1;33m\u001b[0m\u001b[0m\n\u001b[1;32m      2\u001b[0m \u001b[1;32mdel\u001b[0m \u001b[0mx\u001b[0m\u001b[1;33m\u001b[0m\u001b[0m\n\u001b[0;32m----> 3\u001b[0;31m \u001b[0mprint\u001b[0m\u001b[1;33m(\u001b[0m\u001b[0mx\u001b[0m\u001b[1;33m)\u001b[0m\u001b[1;33m\u001b[0m\u001b[0m\n\u001b[0m",
      "\u001b[0;31mNameError\u001b[0m: name 'x' is not defined"
     ]
    }
   ],
   "source": [
    "x = 3\n",
    "del x\n",
    "print(x)"
   ]
  },
  {
   "cell_type": "code",
   "execution_count": 3,
   "metadata": {
    "collapsed": false
   },
   "outputs": [
    {
     "ename": "NameError",
     "evalue": "name 'list1' is not defined",
     "output_type": "error",
     "traceback": [
      "\u001b[0;31m---------------------------------------------------------------------------\u001b[0m",
      "\u001b[0;31mNameError\u001b[0m                                 Traceback (most recent call last)",
      "\u001b[0;32m<ipython-input-3-5d2f1e3b6ef1>\u001b[0m in \u001b[0;36m<module>\u001b[0;34m()\u001b[0m\n\u001b[1;32m      1\u001b[0m \u001b[0mlist1\u001b[0m \u001b[1;33m=\u001b[0m \u001b[1;33m[\u001b[0m\u001b[1;36m1\u001b[0m\u001b[1;33m,\u001b[0m\u001b[1;36m2\u001b[0m\u001b[1;33m,\u001b[0m\u001b[1;36m3\u001b[0m\u001b[1;33m]\u001b[0m\u001b[1;33m\u001b[0m\u001b[0m\n\u001b[1;32m      2\u001b[0m \u001b[1;32mdel\u001b[0m \u001b[0mlist1\u001b[0m\u001b[1;33m\u001b[0m\u001b[0m\n\u001b[0;32m----> 3\u001b[0;31m \u001b[0mprint\u001b[0m\u001b[1;33m(\u001b[0m\u001b[0mlist1\u001b[0m\u001b[1;33m)\u001b[0m\u001b[1;33m\u001b[0m\u001b[0m\n\u001b[0m",
      "\u001b[0;31mNameError\u001b[0m: name 'list1' is not defined"
     ]
    }
   ],
   "source": [
    "list1 = [1,2,3]\n",
    "del list1 #这里是删除列表，也可以删除某个元组\n",
    "print(list1)"
   ]
  },
  {
   "cell_type": "markdown",
   "metadata": {},
   "source": [
    "del用于列表中的某个元素，删除该元素。\n",
    "注意：del不能用于元组，因为元组是不可变序列"
   ]
  },
  {
   "cell_type": "code",
   "execution_count": 6,
   "metadata": {
    "collapsed": false
   },
   "outputs": [
    {
     "name": "stdout",
     "output_type": "stream",
     "text": [
      "[0, 1, 2, 4, 5, 6, 7, 8, 9, 10]\n",
      "[0, 1, 2, 4, 5, 9, 10]\n"
     ]
    }
   ],
   "source": [
    "list1 = [0,1,2,3,4,5,6,7,8,9,10]\n",
    "del list1[3]\n",
    "print(list1)\n",
    "del list1[5:8]#删除分片\n",
    "print(list1)"
   ]
  },
  {
   "cell_type": "markdown",
   "metadata": {},
   "source": [
    "## 2.4 字典\n",
    "字典的形式 {}\n",
    "\n",
    "字典中的每一个元素都是一个键值对（Key：Value），类似于y=f(x)\n",
    "\n",
    "x为Key,y为Value。x值不能重复,y的值可以重复\n",
    "\n",
    "**作业：**统计一个字符串中每个字母出现的频率"
   ]
  },
  {
   "cell_type": "code",
   "execution_count": 36,
   "metadata": {
    "collapsed": false
   },
   "outputs": [
    {
     "name": "stdout",
     "output_type": "stream",
     "text": [
      "95\n",
      "dict_items([('李四', 95), ('王武', 85), ('张三', 95)])\n",
      "dict_keys(['李四', '王武', '张三'])\n",
      "dict_values([95, 85, 95])\n",
      "95\n",
      "None\n",
      "-1\n"
     ]
    }
   ],
   "source": [
    "dict1 = {\"张三\":95,\"李四\":95,\"王武\":85}\n",
    "print(dict1[\"张三\"])#通过key取得对应的value\n",
    "print(dict1.items())#items()获得一个键值对的列表\n",
    "print(dict1.keys())#keys()获得一个键值的列表\n",
    "print(dict1.values())#valuess()获得一个值的列表\n",
    "print(dict1.get(\"张三\"))#找到，返回95\n",
    "print(dict1.get(\"张\"))#没找到，返回None\n",
    "print(dict1.get(\"张\",-1))#没找到，返回指定的-1"
   ]
  },
  {
   "cell_type": "markdown",
   "metadata": {},
   "source": [
    "#  3.自定义数据类型(面向对象入门)\n",
    "\n",
    "下面示例代码自定义一个Student类，利用Student类可以创建出很多Student类型带的对象,如下面的s1与s2两个对象。\n",
    "\n",
    "**\\__init\\__方法：**Python类中的一种特殊方法，方法名的开始和结束都是双下划线，该方法称为构造函数，当创建类的对象时，它被自动调用\n",
    "\n",
    "**self：**对于一个类的所有方法，包括构造函数，其参数中都有一个self。用来代表对象本身"
   ]
  },
  {
   "cell_type": "code",
   "execution_count": 40,
   "metadata": {
    "collapsed": false
   },
   "outputs": [
    {
     "name": "stdout",
     "output_type": "stream",
     "text": [
      "Jordan 18\n",
      "sid=1,name=Jordan,age=18\n"
     ]
    }
   ],
   "source": [
    "class Student:\n",
    "    def __init__(self, sid, name, age):#构造函数，用于初始化\n",
    "        self.sid = sid    #成员变量sid\n",
    "        self.name = name  #成员变量name\n",
    "        self.age = age    ##成员变量age\n",
    "    def printMe(self):#自定义的一个方法\n",
    "        print(\"sid=%s,name=%s,age=%d\"%(self.sid,self.name,self.age))\n",
    "\n",
    "s1 = Student(1,\"Jordan\",18)\n",
    "print(s1.name,s1.age)\n",
    "s1.printMe()\n",
    "s2 = Student(2,\"Rose\",18)"
   ]
  },
  {
   "cell_type": "markdown",
   "metadata": {},
   "source": [
    "# 4.使用第三方库完成复杂程序"
   ]
  },
  {
   "cell_type": "markdown",
   "metadata": {},
   "source": [
    "## 4.1 使用Numpy库画图正弦曲线\n",
    "**依赖库：**\n",
    "    \n",
    "    numpy，matplotlib\n",
    "\n",
    "**步骤：**\n",
    "    \n",
    "     pip3 install numpy\n",
    "\n",
    "     pip3 install matplotlib\n",
    "\n",
    "**参考资料：**\n",
    "\n",
    "    使用Numpy处理数据: http://old.sebug.net/paper/books/scipydoc/numpy_intro.html#\n",
    "\n",
    "    用Python做科学计算: http://old.sebug.net/paper/books/scipydoc/index.html# \n",
    "\n",
    "    Numpy官方文档: http://www.numpy.org/"
   ]
  },
  {
   "cell_type": "code",
   "execution_count": 36,
   "metadata": {
    "collapsed": false
   },
   "outputs": [
    {
     "data": {
      "image/png": "[encoded data removed]",
      "text/plain": [
       "<matplotlib.figure.Figure at 0x2abe305c208>"
      ]
     },
     "metadata": {},
     "output_type": "display_data"
    }
   ],
   "source": [
    "import numpy as np\n",
    "import matplotlib.pyplot as plt\n",
    "\n",
    "x=np.arange(0,2*np.pi,0.01)\n",
    "y=np.sin(x)\n",
    "\n",
    "plt.plot(x,y)\n",
    "plt.show()"
   ]
  },
  {
   "cell_type": "markdown",
   "metadata": {},
   "source": [
    "## 4.2 二维码\n",
    "**简介**：Python 二维码生成器 GitHub - sylnsfar/qrcode: artistic QR Code in Python （Animated GIF qr code） 可生成普通二维码、带图片的艺术二维码（黑白与彩色）、动态二维码（黑白与彩色）。\n",
    "\n",
    "<img src=\"QRCode.jpg\" />\n",
    "\n",
    "**安装：**\n",
    "pip install myqr\n",
    "\n",
    "**依赖库：**pillow, numpy, imageio\n",
    "\n",
    "**说明:**\n",
    "安装myqr的时候可能会自动安装相关的依赖库，如果没有自动安装，请自行安装，如pip install pillow\n",
    "\n",
    "**拓展:**\n",
    "生成自己的名片二维码。\n",
    "\n",
    "**参考资料：**\n",
    "\t二维码名片的格式 - vcard\n",
    "http://blog.csdn.net/johnsuna/article/details/8482454\n",
    "\n",
    "\n"
   ]
  },
  {
   "cell_type": "code",
   "execution_count": 4,
   "metadata": {
    "collapsed": false
   },
   "outputs": [
    {
     "name": "stdout",
     "output_type": "stream",
     "text": [
      "line 16: mode: byte\n"
     ]
    }
   ],
   "source": [
    "from MyQR import myqr\n",
    "words = 'http://cec.jmu.edu.cn'\n",
    "pic='jmu.png'\n",
    "saveName = 'jmuQRCode.png'\n",
    "saveDir = '.'\n",
    "version, level, qr_name = myqr.run(\n",
    "    words,\n",
    "    version=1,\n",
    "    level='H',\n",
    "    picture=pic,\n",
    "    colorized=True,\n",
    "    contrast=1.0,\n",
    "    brightness=1.0,\n",
    "    save_name=saveName,\n",
    "    save_dir=saveDir\n",
    ")"
   ]
  },
  {
   "cell_type": "markdown",
   "metadata": {},
   "source": [
    "jmu.png如下图：\n",
    "<img src=\"jmu.png\">\n",
    "生成的二维码jmuQRCode.png如下图，可以扫一扫：\n",
    "<img src=\"jmuQRCode.png\">"
   ]
  },
  {
   "cell_type": "markdown",
   "metadata": {},
   "source": [
    "## 4.3 小海龟\n",
    "**安装：** Python默认自带turtle库。如没有，请使用**pip install turtle**安装turtle库\n",
    "\n",
    "实例如下："
   ]
  },
  {
   "cell_type": "code",
   "execution_count": 11,
   "metadata": {
    "collapsed": false
   },
   "outputs": [],
   "source": [
    "from turtle import *\n",
    "fillcolor(\"red\")\n",
    "begin_fill()\n",
    "while True:\n",
    "    forward(200)\n",
    "    right(144)\n",
    "    if abs(pos()) < 1:\n",
    "        break\n",
    "end_fill()"
   ]
  },
  {
   "cell_type": "markdown",
   "metadata": {},
   "source": [
    "效果如下图：\n",
    "<img src=\"RedStar.png\">\n",
    "**参考资料：**\n",
    "\n",
    "官方文档 https://docs.python.org/2/library/turtle.html\n",
    "\n",
    "海龟绘图中文教程参考资料 http://www.jb51.net/article/52659.htm\n"
   ]
  },
  {
   "cell_type": "markdown",
   "metadata": {},
   "source": [
    "## 4.4 验证码识别\n",
    "**安装：**\n",
    "1. 需安装Pillow与pytesseract库\n",
    "2. 安装软件tesseract-ocr，下载地址https://sourceforge.net/projects/tesseract-ocr-alt/files/ 选择里面的tesseract-ocr-setup-3.02.02.exe \n",
    "\n",
    "注：Tesseract是一个开源的OCR(Optical Character Recognition,光学字符识别)引擎,可以识别多种格式的图像文件并将其转换成文本。\n",
    "\n",
    "\n",
    "**库安装步骤：**\n",
    "    pip3 install pillow\n",
    "    \n",
    "    pip3 install pytesseract\n",
    "    \n",
    "**例子：**\n",
    "    现在需要识别如下验证码<img src=\"vcode3.png\">"
   ]
  },
  {
   "cell_type": "code",
   "execution_count": 4,
   "metadata": {
    "collapsed": false
   },
   "outputs": [
    {
     "name": "stdout",
     "output_type": "stream",
     "text": [
      "图片中的字符是: 3948\n"
     ]
    }
   ],
   "source": [
    "import pytesseract\n",
    "from PIL import Image\n",
    "\n",
    "image = Image.open('vcode3.png')#可将此处替换为vcode2.png实验\n",
    "vcode = pytesseract.image_to_string(image)\n",
    "print('图片中的字符是:',vcode)"
   ]
  },
  {
   "cell_type": "markdown",
   "metadata": {},
   "source": [
    "参考资料：\n",
    "\n",
    "使用Python识别验证码 http://www.tuicool.com/articles/E3MNziM\n",
    "\n",
    "利用Tesseract来识别验证码  http://blog.csdn.net/zhangxb35/article/details/49592071 \n",
    "\n",
    "说明：识别能力还较弱。如下图，就无法识别。\n",
    "<img src= \"vcode2.png\">\n",
    "如需增强识别能力，还需学习线性代数、图像、模式识别等知识。\n"
   ]
  },
  {
   "cell_type": "markdown",
   "metadata": {},
   "source": [
    "# 5.附录:"
   ]
  },
  {
   "cell_type": "markdown",
   "metadata": {},
   "source": [
    "## 5.1 Python的下载与安装\n",
    "**官网:** https://www.python.org/ Python官网。尽量在官网下载文件。\n",
    "\n",
    "**版本说明：** 2.7.x 或 3.5.x。注意：如果操作系统是xp，请安装3.4.x版本。操作系统是32位请安装32位，是64位请安装64位安装文件。\n",
    "\n",
    "**安装过程中**：要选择\"Add python.exe to Path\"\n",
    "\n",
    "**控制台启动python：**在CMD命令行提示符下输入python,将显示Python控制台。控制台上将显示所安装的Python版本号。\n",
    "<img src=\"PythonShell.png\">\n",
    "\n",
    "**IDLE(Python GUI)：**在开始菜单中Python项目下点击IDLE，可启动Python图形界面,如下图所示。可在其中编写简单的Python文件。常用快捷键:Alt+P，查看上一条命令。Alt+/，自动补全曾经出现过的单词。\n",
    "<img src=\"IDLE.png\">\n",
    "\n",
    "\n",
    "## 5.2 使用pip管理Python扩展库\n",
    "**三种常见的pip命令:**\n",
    "\n",
    "pip install SomePackage #安装SomePackage模块,如**pip install numpy**\n",
    "\n",
    "pip install -upgrade SomePackage #升级SomePackage模块\n",
    "\n",
    "pip uninstall SomePackage #卸载SomePackage模块\n",
    "\n",
    "注意1：在CMD命令行提示符下输入上述命令，如 **C:\\temp>pip install turtle**\n",
    "\n",
    "注意2：pip安装慢时，可指定国内源，如下命令指定使用豆瓣的源\n",
    "**pip install numpy -i https://pypi.douban.com/simple**\n"
   ]
  }
 ],
 "metadata": {
  "kernelspec": {
   "display_name": "Python 3",
   "language": "python",
   "name": "python3"
  },
  "language_info": {
   "codemirror_mode": {
    "name": "ipython",
    "version": 3
   },
   "file_extension": ".py",
   "mimetype": "text/x-python",
   "name": "python",
   "nbconvert_exporter": "python",
   "pygments_lexer": "ipython3",
   "version": "3.5.2"
  }
 },
 "nbformat": 4,
 "nbformat_minor": 1
}

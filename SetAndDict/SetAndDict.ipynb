{
 "cells": [
  {
   "cell_type": "markdown",
   "metadata": {},
   "source": [
    "# 集合(set)与字典(dict)\n",
    "**作者：** 郑如滨\n",
    "\n",
    "**主要参考资料:** [Python 3.7.5官方中文文档](https://docs.python.org/zh-cn/3.7/) "
   ]
  },
  {
   "cell_type": "markdown",
   "metadata": {},
   "source": [
    "**字符串、列表、元组**均是序列类型，其中的元素均是**有序**排列。  \n",
    "其他容器对象：集合(set)、字典(dict)。\n",
    "\n",
    "**集合:**  \n",
    "集合内的元素\n",
    "- **不可重复**  \n",
    "- **无序排列**\n",
    "    \n",
    "**字典:**  \n",
    "- 存储了**键-值**对。  \n",
    "- 通过键**快速查找**值。"
   ]
  },
  {
   "cell_type": "markdown",
   "metadata": {},
   "source": [
    "# 1. 集合(set)\n",
    "## 1.1 集合概述\n",
    "包含0个或多个数据元素的**无序**组合，且元素**不可重复**。\n",
    "\n",
    "集合内元素用**{}**括起来。"
   ]
  },
  {
   "cell_type": "code",
   "execution_count": 1,
   "metadata": {},
   "outputs": [
    {
     "name": "stdout",
     "output_type": "stream",
     "text": [
      "{361000, 'xiamen', 'beijing', 'wuxi', 'lasa'}\n"
     ]
    }
   ],
   "source": [
    "city = {\"xiamen\", \"beijing\", 361000, \"lasa\", \"wuxi\"}\n",
    "print(city)"
   ]
  },
  {
   "cell_type": "markdown",
   "metadata": {},
   "source": [
    "集合内元素无序，所以打印出来的元素顺序与定义时不一致。"
   ]
  },
  {
   "cell_type": "markdown",
   "metadata": {},
   "source": [
    "**集合主要用途:**\n",
    "1. 成员检测\n",
    "2. 消除重复元素\n",
    "3. 集合的并集、交集、叉集等数学运算"
   ]
  },
  {
   "cell_type": "code",
   "execution_count": 7,
   "metadata": {},
   "outputs": [
    {
     "name": "stdout",
     "output_type": "stream",
     "text": [
      "{361000, 'xiamen', 'beijing'} 集合内元素个数： 3\n",
      "False\n"
     ]
    }
   ],
   "source": [
    "city = {\"xiamen\", \"beijing\", 361000, \"xiamen\", 361000}\n",
    "print(city, \"集合内元素个数：\", len(city))\n",
    "print(\"shang\" in city)"
   ]
  },
  {
   "cell_type": "markdown",
   "metadata": {},
   "source": [
    "## 1.2 集合常见用法\n",
    "使用列表(list)创建集合，并去除了重复元素。  \n",
    "然后使用`in`与`not in`判断指定值是否在集合中。  \n",
    "最后使用`remove`方法删除set中指定元素。"
   ]
  },
  {
   "cell_type": "code",
   "execution_count": 3,
   "metadata": {},
   "outputs": [
    {
     "name": "stdout",
     "output_type": "stream",
     "text": [
      "zhao wang zhang li chen \n",
      "namelist中元素个数为6\n",
      "nameset 中元素个数为5,内容为['zhang', 'wang', 'zhao', 'li', 'wang', 'chen']\n",
      "'zhang'  在nameset中吗? True\n",
      "'zhang'不在nameset中吗? False\n",
      "'张'在nameset中吗? False\n",
      "删除'zhang'后nameset的长度4，内容{'zhao', 'wang', 'li', 'chen'}\n"
     ]
    }
   ],
   "source": [
    "namelist = [\"zhang\",\"wang\",\"zhao\",\"li\",\"wang\",\"chen\"]\n",
    "nameset = set(namelist)\n",
    "for e in nameset:       #遍历nameset\n",
    "    print(e, end = \" \")\n",
    "print()\n",
    "print(\"namelist中元素个数为{}\".format(len(namelist)))\n",
    "print(\"nameset 中元素个数为{},内容为{}\".format(len(nameset),namelist))\n",
    "print(\"'zhang'  在nameset中吗?\", \"zhang\" in nameset)\n",
    "print(\"'zhang'不在nameset中吗?\", \"zhang\" not in nameset)\n",
    "print(\"'张'在nameset中吗?\", \"王\" in nameset)\n",
    "nameset.remove(\"zhang\")\n",
    "print(\"删除'zhang'后nameset的长度{}，内容{}\".format(len(nameset),nameset))"
   ]
  },
  {
   "cell_type": "markdown",
   "metadata": {},
   "source": [
    "**集合的并交叉运算**"
   ]
  },
  {
   "cell_type": "code",
   "execution_count": 9,
   "metadata": {},
   "outputs": [
    {
     "name": "stdout",
     "output_type": "stream",
     "text": [
      "并集为: {1, 2, 3, 4, 5, 6, 7, 8, 9, 10}\n",
      "交集为: {1, 10, 5, 7}\n",
      "在xset但不在yset的元素: {8, 2, 3, 6}\n",
      "在xset或yset，但不在他们的较集中的元素: {2, 3, 4, 6, 8, 9}\n"
     ]
    }
   ],
   "source": [
    "xset = set([1,2,3,5,6,7,8,10]) #创建set\n",
    "yset = set([1,4,5,7,9,10])\n",
    "print(\"并集为:\",xset|yset)   \n",
    "print(\"交集为:\",xset & yset)\n",
    "print(\"在xset但不在yset的元素:\", xset - yset)\n",
    "print(\"在xset或yset，但不在他们的较集中的元素:\", xset^yset)"
   ]
  },
  {
   "cell_type": "markdown",
   "metadata": {},
   "source": [
    "## 1.3 集合的创建与遍历\n",
    "### 1.3.1 集合的创建\n",
    "可使用set()函数或{}进行创建。\n",
    "\n",
    "**1.使用{}可以直接创建**  \n",
    "元素之间用**,**分隔。"
   ]
  },
  {
   "cell_type": "code",
   "execution_count": 18,
   "metadata": {},
   "outputs": [
    {
     "name": "stdout",
     "output_type": "stream",
     "text": [
      "{1, 2, 3} {'b', 1, 2, 'a'}\n"
     ]
    }
   ],
   "source": [
    "xset = {3,1,2,1,2,3}\n",
    "yset = {'a','b',1,2,'a'b}\n",
    "print(xset, yset) #{1, 2, 3} {'b', 1, 2, 'a'}"
   ]
  },
  {
   "cell_type": "markdown",
   "metadata": {},
   "source": [
    "**注意：**不能使用**{}**代表空集合，因为其代表空字典。  \n",
    "需使用set()函数创建空集合。"
   ]
  },
  {
   "cell_type": "code",
   "execution_count": 20,
   "metadata": {},
   "outputs": [
    {
     "name": "stdout",
     "output_type": "stream",
     "text": [
      "<class 'dict'>\n"
     ]
    }
   ],
   "source": [
    "print(type({}))"
   ]
  },
  {
   "cell_type": "markdown",
   "metadata": {},
   "source": [
    "**2.使用set()函数创建**  \n",
    "该函数接受任何可迭代(iterable)对象(str, list, tuple, range等)"
   ]
  },
  {
   "cell_type": "code",
   "execution_count": 22,
   "metadata": {},
   "outputs": [
    {
     "name": "stdout",
     "output_type": "stream",
     "text": [
      "{'b', 'c', 'a'} {1, 2, 3}\n",
      "{'z', 'x', 'y'} {0, 1, 2, 3, 4}\n",
      "<class 'set'> 0\n"
     ]
    }
   ],
   "source": [
    "xset = set(\"abca\")\n",
    "yset = set([1,2,3])\n",
    "print(xset,yset) # {'b', 'c', 'a'} {1, 2, 3}\n",
    "zset = set((\"x\",\"y\",\"z\"))\n",
    "rset = set(range(5))\n",
    "print(zset,rset) # {'z', 'x', 'y'} {0, 1, 2, 3, 4}\n",
    "emptyset = set() # 创建空字典\n",
    "print(type(emptyset), len(emptyset))"
   ]
  },
  {
   "cell_type": "markdown",
   "metadata": {},
   "source": [
    "**小技巧：**如何判定一个对象是否是可迭代的？\n",
    "使用collections模块中的Iterable类型判断"
   ]
  },
  {
   "cell_type": "code",
   "execution_count": 16,
   "metadata": {},
   "outputs": [
    {
     "name": "stdout",
     "output_type": "stream",
     "text": [
      "True\n",
      "True\n",
      "False\n"
     ]
    }
   ],
   "source": [
    "from collections import Iterable\n",
    "print(isinstance((\"abc\"), Iterable))\n",
    "print(isinstance((range(5)), Iterable))\n",
    "print(isinstance(3.14, Iterable))"
   ]
  },
  {
   "cell_type": "markdown",
   "metadata": {},
   "source": [
    "**3.使用集合推导式创建**"
   ]
  },
  {
   "cell_type": "code",
   "execution_count": 42,
   "metadata": {},
   "outputs": [
    {
     "name": "stdout",
     "output_type": "stream",
     "text": [
      "<class 'set'> {0, 64, 4, 36, 16}\n"
     ]
    }
   ],
   "source": [
    "xset = {x**2 for x in range(10) if x % 2 == 0}\n",
    "print(type(xset),xset)"
   ]
  },
  {
   "cell_type": "markdown",
   "metadata": {},
   "source": [
    "### 1.3.2 集合的遍历"
   ]
  },
  {
   "cell_type": "markdown",
   "metadata": {},
   "source": [
    "集合是可迭代对象，因此可直接使用for循环进行遍历。  "
   ]
  },
  {
   "cell_type": "code",
   "execution_count": 35,
   "metadata": {},
   "outputs": [
    {
     "name": "stdout",
     "output_type": "stream",
     "text": [
      "zhang li chen wang zhao "
     ]
    }
   ],
   "source": [
    "nameset = set([\"zhang\",\"wang\",\"zhao\",\"li\",\"wang\",\"chen\"])\n",
    "for e in nameset:       #遍历nameset\n",
    "    print(e, end = \" \")"
   ]
  },
  {
   "cell_type": "markdown",
   "metadata": {},
   "source": [
    "使用**迭代器**进行遍历。"
   ]
  },
  {
   "cell_type": "code",
   "execution_count": 34,
   "metadata": {},
   "outputs": [
    {
     "name": "stdout",
     "output_type": "stream",
     "text": [
      "zhang li chen wang zhao "
     ]
    }
   ],
   "source": [
    "cityiterator = iter(nameset)\n",
    "for i in range(len(nameset)):\n",
    "    print(next(cityiterator), end = \" \")"
   ]
  },
  {
   "cell_type": "markdown",
   "metadata": {},
   "source": [
    "**注意：**集合中的元素是无序排列的。\n",
    "因此将上述遍历代码存于文件，并多次运行，返回的结果可能不一致。如下图所示：  \n",
    "![set内元素无序排列](set内元素无序排列.png)"
   ]
  },
  {
   "cell_type": "markdown",
   "metadata": {},
   "source": [
    "## 1.4 集合常用方法"
   ]
  },
  {
   "cell_type": "markdown",
   "metadata": {},
   "source": [
    "可以将集合的方法按照**增、删、查、其他**进行分类。如下表所示。  \n",
    "\n",
    "**注:** s为所要操作的集合： \n",
    "<escape>\n",
    "<table>\n",
    "  <tr>\n",
    "    <th>类别</th>\n",
    "    <th>方法</th>\n",
    "    <th>说明</th>\n",
    "  </tr>\n",
    "  <tr>\n",
    "    <td rowspan=\"2\">增</td>\n",
    "    <td>s.add(x)</td>\n",
    "    <td>如果数据项x不在集合s中，将x加入s</td>\n",
    "  </tr>\n",
    "  <tr>\n",
    "    <td>s.update(xset)</td>\n",
    "    <td>在s中添加来自xset中的元素</td>\n",
    "  </tr>\n",
    "  <tr>\n",
    "    <td rowspan=\"4\">删</td>\n",
    "    <td>s.remove(x)</td>\n",
    "    <td>如x在集合s中，则移除；否则，引发KeyError异常</td>\n",
    "  </tr>\n",
    "  <tr>\n",
    "    <td>s.discard(x)</td>\n",
    "    <td>如果x在集合s中，移除该元素；如果x不存在，不报错</td>\n",
    "  </tr>\n",
    "  <tr>\n",
    "    <td>s.pop()</td>\n",
    "    <td>随机返回集合s中的一个元素，如集合为空，引发KeyError异常</td>\n",
    "  </tr>\n",
    "  <tr>\n",
    "    <td>s.clear()</td>\n",
    "    <td>移除s中所有数据项</td>\n",
    "  </tr>\n",
    "  <tr>\n",
    "    <td rowspan=\"2\">查</td>\n",
    "    <td>x in S</td>\n",
    "    <td>如果x是S的元素，返回True，否则返回False</td>\n",
    "  </tr>\n",
    "  <tr>\n",
    "    <td>x not in S</td>\n",
    "    <td>如果x不是S的元素，返回True，否则返回False</td>\n",
    "  </tr>\n",
    "  <tr>\n",
    "    <td rowspan=\"3\">其他</td>\n",
    "    <td>len(s)</td>\n",
    "    <td>返回集合s元素个数</td>\n",
    "  </tr>\n",
    "  <tr>\n",
    "    <td>s.copy()</td>\n",
    "    <td>返回集合S的一个浅拷贝</td>\n",
    "  </tr>\n",
    "  <tr>\n",
    "    <td>isdisjoint, issubset, issuperset</td>\n",
    "    <td>判断两个集合之间的关系的方法</td>\n",
    "  </tr>\n",
    "</table>\n",
    "</escape>"
   ]
  },
  {
   "cell_type": "code",
   "execution_count": 54,
   "metadata": {},
   "outputs": [
    {
     "name": "stdout",
     "output_type": "stream",
     "text": [
      "{1, 2, 3, 4}\n",
      "1 2 3 \n"
     ]
    }
   ],
   "source": [
    "s = set()\n",
    "s.add(1)\n",
    "s.update({2,3,4})\n",
    "print(s)\n",
    "if 4 in s:   #因为remove方法可能会引发KeyError，所以应先判断\n",
    "    s.remove(4)\n",
    "s.discard(5) #5不存在，也不会报错\n",
    "while len(s) != 0: #因s为空时pop会引发KeyError，所以需判断\n",
    "    print(s.pop(), end = \" \")\n",
    "print()"
   ]
  },
  {
   "cell_type": "markdown",
   "metadata": {},
   "source": [
    "**判断两个集合之间的关系的方法或运算符：** \n",
    "\n",
    "方法或运算符|说明\n",
    "-|-\n",
    "s.isdisjoint(xset)|如果集合s中没有与xset中有共同的元素返回`True`\n",
    "s.issubset(xset)|如果s是xset的子集返回`True`\n",
    "s <= xset|判断s是否xset的子集\n",
    "s < xset|判断s是否xset的**真子集**\n",
    "s.issuperset(xset)|判断s是否是xset的超集\n",
    "s >= xset|判断xset是否是s的子集\n",
    "s > xset|判断xset是否是s的**真子集**"
   ]
  },
  {
   "cell_type": "code",
   "execution_count": 24,
   "metadata": {},
   "outputs": [
    {
     "name": "stdout",
     "output_type": "stream",
     "text": [
      "True\n",
      "True\n",
      "True\n",
      "True False\n",
      "True False\n"
     ]
    }
   ],
   "source": [
    "xset = {1,2,3}\n",
    "yset = {1,2,3,4,5}\n",
    "zset = {4,5,6}\n",
    "print(xset.isdisjoint(zset))    #True\n",
    "print(xset.issubset(yset))      #True\n",
    "print(yset.issuperset(xset))    #True\n",
    "print(xset<=yset, xset<{1,2,3}) #True, False\n",
    "print(yset>=xset, xset>{1,2,3}) #True, False"
   ]
  },
  {
   "cell_type": "markdown",
   "metadata": {},
   "source": [
    "## 1.5 集合的数学运算\n",
    "集合支持并集(**|**)、交集(**&**)、差集(**-**)、对称差集(^)等数学运算。  \n",
    "集中集合运算的含义如下图所示：\n",
    "\n",
    "![集合的数学运算](集合的数学运算.png)\n"
   ]
  },
  {
   "cell_type": "code",
   "execution_count": 1,
   "metadata": {},
   "outputs": [
    {
     "name": "stdout",
     "output_type": "stream",
     "text": [
      "个数: 10 , A|B: {1, 2, 3, 4, 5, 6, 7, 8, 9, 10}\n",
      "A&B {1, 10, 3, 9}\n",
      "A-B {5, 6, 7}\n",
      "A^B {2, 4, 5, 6, 7, 8}\n"
     ]
    }
   ],
   "source": [
    "A = {1,3,5,6,7,9,10}\n",
    "B = {1,2,3,4,8,9,10}\n",
    "print(\"个数:\", len(A|B), \", A|B:\",A|B)\n",
    "print(\"A&B\", A&B) \n",
    "print(\"A-B\", A-B)\n",
    "print(\"A^B\", A^B)"
   ]
  },
  {
   "cell_type": "markdown",
   "metadata": {},
   "source": [
    "并集(**|**)、交集(**&**)、差集(**-**)、对称差集(**^**)是运算符版本的集合运算。  \n",
    "其对对应的非运算符版本的集合运算分别是`union, intersection, difference, symmetric_difference`。"
   ]
  },
  {
   "cell_type": "code",
   "execution_count": 12,
   "metadata": {},
   "outputs": [
    {
     "name": "stdout",
     "output_type": "stream",
     "text": [
      "{1, 2, 3, 4, 5, 6, 7, 8, 9, 10}\n",
      "{1, 10, 3, 9}\n",
      "{5, 6, 7}\n",
      "{2, 4, 5, 6, 7, 8}\n"
     ]
    }
   ],
   "source": [
    "A = {1,3,5,6,7,9,10}\n",
    "B = {1,2,3,4,8,9,10}\n",
    "print(A.union(B))\n",
    "print(A.intersection(B))\n",
    "print(A.difference(B))\n",
    "print(A.symmetric_difference(B))"
   ]
  },
  {
   "cell_type": "markdown",
   "metadata": {},
   "source": [
    "**注意：**不管是运算符或者非运算符版本的集合运算都不会改变原来的集合。"
   ]
  },
  {
   "cell_type": "markdown",
   "metadata": {},
   "source": [
    "## 1.6 集合的应用"
   ]
  },
  {
   "cell_type": "markdown",
   "metadata": {},
   "source": [
    "### 1.6.1 词汇统计\n",
    "给定一段英文，将其中的单词抽取出来。抽取之前先进行预处理：将其中的所有标点符号替换为一个空格。  \n",
    "预处理后，统计这段英文：\n",
    "1. 有多少个单词。\n",
    "2. 有多少不重复的单词。\n",
    "3. 将这些不重复的单词按升序输出。"
   ]
  },
  {
   "cell_type": "code",
   "execution_count": 25,
   "metadata": {},
   "outputs": [
    {
     "name": "stdout",
     "output_type": "stream",
     "text": [
      "原文单词个数： 45\n",
      "不重复的单词个数： 36\n",
      "他们是： ['again', 'alice', 'all', 'and', 'been', 'but', 'door', 'doors', 'down', 'ever', 'every', 'get', 'had', 'hall', 'how', 'locked', 'middle', 'one', 'other', 'out', 'round', 'sadly', 'she', 'side', 'the', 'there', 'they', 'to', 'trying', 'up', 'walked', 'was', 'way', 'were', 'when', 'wondering']\n"
     ]
    }
   ],
   "source": [
    "article = '''\n",
    "There were doors all round the hall, but they were all locked;\n",
    "and when Alice had been all the way down one side and up the\n",
    "other, trying every door, ALICE walked sadly down the middle,\n",
    "wondering how she was ever to get out again.\n",
    "'''\n",
    "article = article.lower()\n",
    "for e in \",;.\":\n",
    "   article = article.replace(e, \" \")\n",
    "words = article.split()\n",
    "print(\"原文单词个数：\",len(words))\n",
    "wordset = set(words)\n",
    "print(\"不重复的单词个数：\",len(wordset))\n",
    "print(\"他们是：\",sorted(wordset),)"
   ]
  },
  {
   "cell_type": "markdown",
   "metadata": {},
   "source": [
    "### 1.6.2 任务随机分配\n",
    "假设有A、B、C、D四项任务需要完成。现在有一份成员名单，名单上有n个成员，每个成员都可以做这4项任务。  \n",
    "希望编写一个算法，每回从名单随机抽取一个成员分配某个任务，并将该成员标注为已分配，下回抽取就不会再  \n",
    "抽到该成员。且分配过程中**不能删除名单中的成员**。 希望整个分配过程尽量保证每个任务分配到的人数基本一致。  \n",
    "请编写程序打印出每个任务分配到的成员情况。"
   ]
  },
  {
   "cell_type": "code",
   "execution_count": 5,
   "metadata": {},
   "outputs": [
    {
     "name": "stdout",
     "output_type": "stream",
     "text": [
      "任务A分配了10个人，他们是[32, 20, 8, 36, 4, 16, 24, 28, 12, 0]\n",
      "任务B分配了10个人，他们是[5, 1, 9, 29, 37, 13, 21, 33, 17, 25]\n",
      "任务C分配了10个人，他们是[2, 34, 18, 22, 10, 14, 6, 26, 38, 30]\n",
      "任务D分配了9个人，他们是[7, 19, 23, 31, 35, 3, 15, 27, 11]\n",
      "没有交集\n"
     ]
    }
   ],
   "source": [
    "import random\n",
    "tasks = [\"A\", \"B\", \"C\", \"D\"]\n",
    "members = list(range(39))     #假设有39人\n",
    "result = [[] for i in range(4)]\n",
    "mset = set()                  #用来存放已分配任务的成员\n",
    "for i in range(len(members)):\n",
    "    while(True): #从名单中随机选取一个成员，可能选到已分配过的成员\n",
    "        i = random.randint(0, len(members)-1)\n",
    "        p = members[i]\n",
    "        if p not in mset:\n",
    "            break\n",
    "    mset.add(p)\n",
    "    result[i%4].append(p)     #按照ABCDA..顺序依次选取任务分配\n",
    "for i in range(len(result)):\n",
    "    print(\"任务{}分配了{}个人，他们是{}\".format(tasks[i],len(result[i]), result[i]))\n",
    "isdisjoint = False  #假设他们有交集\n",
    "for i in range(len(result)):\n",
    "    for j in range(i+1,len(result)):\n",
    "        isdisjoint = set(result[i]).isdisjoint(result[j])\n",
    "        if isdisjoint == False:\n",
    "            break\n",
    "print(\"没有交集\" if isdisjoint else \"有交集\")"
   ]
  },
  {
   "cell_type": "markdown",
   "metadata": {},
   "source": [
    "### 1.6.3 学生选修统计\n"
   ]
  },
  {
   "cell_type": "code",
   "execution_count": 9,
   "metadata": {},
   "outputs": [
    {
     "name": "stdout",
     "output_type": "stream",
     "text": [
      "同时选修3门课程的学生： {1, 3}\n",
      "A班中没有进行任何选修的: {4}\n",
      "两个班未进行任何选修的： {10, 4}\n",
      "有且仅有选修1门的学生: {8, 5, 6}\n",
      "有且仅有选修2门的学生: {9, 2, 7}\n",
      "1: os java badminton\n",
      "2: java badminton\n",
      "3: os java badminton\n",
      "4:\n",
      "5: os\n"
     ]
    }
   ],
   "source": [
    "classA = set([1,2,3,4,5])\n",
    "classB = set([6,7,8,9,10])\n",
    "os = set([1,3,5,6,9])       #选修操作系统\n",
    "java = set([1,2,3,7,8,9])   #选修java\n",
    "badminton = set([1,2,3,7])  #选修羽毛球\n",
    "threeset = os & java & badminton\n",
    "print(\"同时选修3门课程的学生：\", threeset)\n",
    "print(\"A班中没有进行任何选修的:\", classA - (os | java | badminton))\n",
    "print(\"两个班未进行任何选修的：\", (classA|classB) - (os | java | badminton))\n",
    "oneset = (os|java|badminton)-(os&java)-(os&badminton)-(java&badminton)\n",
    "print(\"有且仅有选修1门的学生:\", oneset)\n",
    "print(\"有且仅有选修2门的学生:\", (os|java|badminton) - oneset - threeset)\n",
    "#打印A班每个人的选修情况\n",
    "for e in classA:\n",
    "    result = str(e)+\":\"\n",
    "    if e in os:\n",
    "        result += \" os\"\n",
    "    if e in java:\n",
    "        result += (\" java\") \n",
    "    if e in badminton:\n",
    "        result += (\" badminton\") \n",
    "    print(result)\n",
    "        "
   ]
  },
  {
   "cell_type": "markdown",
   "metadata": {},
   "source": [
    "# 2. 字典(dict)\n",
    "## 2.1 字典概述\n",
    "我们使用字典查询某个字时，通常是先通过拼音、偏旁找到要查的字。  \n",
    "然后根据该字所在页码，找到该字的详细释义。  \n",
    "\n",
    "Python中的字典(dict)：通过键(key)快速找到对应的值(value)。  \n",
    "类比字典，**“字”**就相当于键，**“详细释义”**相当于值。  \n",
    "\n",
    "字典特点与用法：\n",
    "- **主要用法：**通过键可**快速**找到值\n",
    "- 存储了**键:值对**(key->value)组合\n",
    "- 键值必须唯一，且为不可变类型（通常为数、字符串）\n",
    "- 字典中的键值对会保留插入顺序"
   ]
  },
  {
   "cell_type": "markdown",
   "metadata": {},
   "source": [
    "## 2.2 字典常见用法\n",
    "**包含：**创建、查找、键成员判断、删除。  "
   ]
  },
  {
   "cell_type": "code",
   "execution_count": 4,
   "metadata": {},
   "outputs": [
    {
     "name": "stdout",
     "output_type": "stream",
     "text": [
      "zhang对应: 张\n",
      "字典内容: {'zhang': '章', 'wang': '王', 'zhao': '赵', 'li': '李', 'chen': '陈'} 键个数: 5\n",
      "删除后'zhao'后字典内容: {'zhang': '章', 'wang': '王', 'li': '李', 'chen': '陈'} 键个数: 4\n",
      "字典内容: {'zhang': '章', 'wang': '王', 'li': '李', 'chen': '晨'}\n"
     ]
    }
   ],
   "source": [
    "#创建字典\n",
    "namedict = {\"zhang\":\"张\", \"wang\":\"王\", \"zhao\":\"赵\", \"li\":\"李\", \"chen\":\"陈\"}\n",
    "#字典查找\n",
    "print(\"zhang对应:\", namedict[\"zhang\"])\n",
    "namedict[\"zhang\"] = \"章\" #更新字典\n",
    "print(\"字典内容:\", namedict, \"键个数:\", len(namedict))\n",
    "#删除键\n",
    "del namedict[\"zhao\"]\n",
    "print(\"删除后'zhao'后字典内容:\", namedict, \"键个数:\", len(namedict))\n",
    "#成员判断\n",
    "name = \"chen\"\n",
    "if name in namedict:\n",
    "    namedict[name] = \"晨\"\n",
    "print(\"字典内容:\", namedict)"
   ]
  },
  {
   "cell_type": "markdown",
   "metadata": {},
   "source": [
    "## 2.3 字典的创建与遍历\n",
    "### 2.3.1 字典的创建\n",
    "可使用dict()函数或**{}**来进行创建。\n",
    "\n",
    "**1. 使用{}直接创建**  \n",
    "\n",
    "使用{}将一系列**键值对**括起来。"
   ]
  },
  {
   "cell_type": "code",
   "execution_count": 3,
   "metadata": {},
   "outputs": [
    {
     "name": "stdout",
     "output_type": "stream",
     "text": [
      "{'厦门': 361000, '北京': 100000, '上海': 200000, '深圳': 518000, '杭州': 310000}\n",
      "键个数: 5 内容: ['厦门', '北京', '上海', '深圳', '杭州']\n"
     ]
    }
   ],
   "source": [
    "# 创建空字典\n",
    "emptyDict = {}\n",
    "# 创建有内容的字典\n",
    "cityDict = {\"厦门\":111111, \"北京\":100000, \"上海\":200000, \"深圳\":518000, \"杭州\":310000, \"厦门\":361000}\n",
    "print(cityDict)        #后出现的key对应的值会覆盖先出现的相同key对应的值\n",
    "print(\"键个数:\",len(cityDict), \"内容:\",list(cityDict))  #显示字典的键列表，按插入顺序排列"
   ]
  },
  {
   "cell_type": "markdown",
   "metadata": {},
   "source": [
    "**2. 使用dict()函数创建**"
   ]
  },
  {
   "cell_type": "code",
   "execution_count": 16,
   "metadata": {},
   "outputs": [
    {
     "name": "stdout",
     "output_type": "stream",
     "text": [
      "{'一': 1, '二': 2, '三': 3}\n"
     ]
    }
   ],
   "source": [
    "dict1 = dict(一 = 1, 二 = 2, 三 = 3) #这里的键“一”为字符串\n",
    "print(dict1)"
   ]
  },
  {
   "cell_type": "markdown",
   "metadata": {},
   "source": [
    "dict函数接受可迭代(iterable)对象作为参数。  \n",
    "但该对象其中每项必须为包含两个元素的可迭代对象。"
   ]
  },
  {
   "cell_type": "code",
   "execution_count": 35,
   "metadata": {},
   "outputs": [
    {
     "name": "stdout",
     "output_type": "stream",
     "text": [
      "True\n",
      "{'厦门': 361000, '北京': 100000, '上海': 200000, '深圳': 518000, '杭州': 310000}\n",
      "{'a': 97, 'b': 98, 'c': 99, 'd': 100, 'e': 101}\n"
     ]
    }
   ],
   "source": [
    "dict2 = dict([('一',1), ('二',2), ('三',3)])\n",
    "dict3 = dict([['一',1], ['二',2], ['三',3]])\n",
    "print(dict1 == dict2 == dict3)  #上面3个dict都一样\n",
    "dict4 = dict({\"厦门\":111111, \"北京\":100000, \"上海\":200000, \"深圳\":518000, \"杭州\":310000, \"厦门\":361000})\n",
    "print(dict4)  #字典本身也是可迭代对象\n",
    "#使用zip函数创建字典\n",
    "charlist = list(\"abcde\")\n",
    "ordlist = [97,98,99,100,101]\n",
    "dict5 = dict(zip(charlist, ordlist)) #zip是可迭代对象，将两个可迭代对象绑定起来\n",
    "print(dict5)"
   ]
  },
  {
   "cell_type": "markdown",
   "metadata": {},
   "source": [
    "**小技巧:**怎么判断一个对象是否是可迭代对象？"
   ]
  },
  {
   "cell_type": "code",
   "execution_count": 38,
   "metadata": {},
   "outputs": [
    {
     "name": "stdout",
     "output_type": "stream",
     "text": [
      "True\n",
      "True\n"
     ]
    }
   ],
   "source": [
    "from collections import Iterable\n",
    "print(isinstance(zip(['one', 'two', 'three'], [1, 2, 3]), Iterable)) #返回True, zip对象可迭代\n",
    "print(isinstance({}, Iterable))  # 返回True, 字典也是可迭代的"
   ]
  },
  {
   "cell_type": "markdown",
   "metadata": {},
   "source": [
    "**3. 使用字典推导式创建**"
   ]
  },
  {
   "cell_type": "code",
   "execution_count": 11,
   "metadata": {},
   "outputs": [
    {
     "name": "stdout",
     "output_type": "stream",
     "text": [
      "8*9=72\n"
     ]
    }
   ],
   "source": [
    "#创建一个9*9乘法表，键为元组类型\n",
    "mydict = {(i,j):str(i)+\"*\"+str(j)+\"=\"+str(i*j) for i in range(1, 10) for j in range(1, 10)}\n",
    "print(mydict[(8,9)])"
   ]
  },
  {
   "cell_type": "markdown",
   "metadata": {},
   "source": [
    "**4.使用dict的类方法fromkeys创建**  \n",
    "\n",
    "fromkeys方法可以接收可迭代对象参数作为参数，生成一个新的字典。  \n",
    "该字典的键是列表中的元素，值为None或者自己预先设定的值。"
   ]
  },
  {
   "cell_type": "code",
   "execution_count": 20,
   "metadata": {},
   "outputs": [
    {
     "name": "stdout",
     "output_type": "stream",
     "text": [
      "['A', 'B', 'C', 'D', 'E']\n",
      "{'A': None, 'B': None, 'C': None, 'D': None, 'E': None}\n",
      "{'A': 0, 'B': 0, 'C': 0, 'D': 0, 'E': 0}\n"
     ]
    }
   ],
   "source": [
    "keyList = [chr(ord('A') + x) for x in range(5)]\n",
    "print(keyList)\n",
    "xdict = dict.fromkeys(keyList)    #键为keyList中的元素，值为None\n",
    "ydict = dict.fromkeys(keyList, 0) #值为0\n",
    "print(xdict)\n",
    "print(ydict)"
   ]
  },
  {
   "cell_type": "markdown",
   "metadata": {},
   "source": [
    "### 2.3.2 字典的遍历\n",
    "可以对字典的以下几个方法返回的对象进行迭代遍历\n",
    "- keys()：返回键视图\n",
    "- values()：返回值视图\n",
    "- items()：返回(键, 值)对视图"
   ]
  },
  {
   "cell_type": "code",
   "execution_count": 24,
   "metadata": {},
   "outputs": [
    {
     "name": "stdout",
     "output_type": "stream",
     "text": [
      "厦门:361000\n",
      "北京:100000\n",
      "上海:200000\n",
      "深圳:518000\n",
      "杭州:310000\n",
      "\n",
      "打印键列表、值列表\n",
      "['厦门', '北京', '上海', '深圳', '杭州']\n",
      "[361000, 100000, 200000, 518000, 310000]\n",
      "\n",
      "遍历值\n",
      "361000 100000 200000 518000 310000 \n",
      "\n",
      "打印items()对象\n",
      "dict_items([('厦门', 361000), ('北京', 100000), ('上海', 200000), ('深圳', 518000), ('杭州', 310000)])\n",
      "\n",
      "将items()转化为列表\n",
      "[('厦门', 361000), ('北京', 100000), ('上海', 200000), ('深圳', 518000), ('杭州', 310000)]\n"
     ]
    }
   ],
   "source": [
    "cityDict = {\"厦门\":111111, \"北京\":100000, \"上海\":200000, \"深圳\":518000, \"杭州\":310000, \"厦门\":361000}\n",
    "for e in cityDict:      #按键遍历。同for e in cidyDict.keys()\n",
    "    print(\"{}:{}\".format(e, cityDict[e]))\n",
    "print(\"\\n打印键列表、值列表\")\n",
    "print(list(cityDict.keys()), list(cityDict.values()), sep = \"\\n\")\n",
    "\n",
    "print(\"\\n遍历值\")\n",
    "for e in cityDict.values():  #遍历值\n",
    "    print(e, end = \" \")\n",
    "print()\n",
    "print(\"\\n打印items()对象\")\n",
    "print(cityDict.items())\n",
    "print(\"\\n将items()转化为列表\")\n",
    "print(list(cityDict.items()))"
   ]
  },
  {
   "cell_type": "markdown",
   "metadata": {},
   "source": [
    "## 2.4 字典常用方法\n",
    "\n",
    "可以将字典相关的方法按照**查、增、改、删、其他**进行分类。如下表所示：\n",
    "\n",
    "**注:** d为所要操作的集合："
   ]
  },
  {
   "cell_type": "markdown",
   "metadata": {},
   "source": [
    "### 字典中的查找、新增与更新操作\n",
    "\n",
    "d[key]有可能引发KeyError，要谨慎使用。"
   ]
  },
  {
   "cell_type": "code",
   "execution_count": 64,
   "metadata": {},
   "outputs": [
    {
     "name": "stdout",
     "output_type": "stream",
     "text": [
      "张\n",
      "张\n",
      "not exist\n",
      "False False\n",
      "曹\n"
     ]
    }
   ],
   "source": [
    "nameDict = {\"zhang\":\"张\", \"wang\":\"王\", \"zhao\":\"赵\", \"li\":\"李\", \"chen\":\"陈\"}\n",
    "# 查找\n",
    "print(nameDict[\"zhang\"])     #namedict[\"cao\"]会引发KeyError\n",
    "print(nameDict.get(\"zhang\")) #未找到。不会引发KeyError，返回None    \n",
    "print(nameDict.get(\"cao\", \"not exist\")) #未找到，返回\"not exist\"\n",
    "print(\"cao\" in nameDict, \"wang\" not in nameDict) #判断是否在nameDict中\n",
    "if \"cao\" not in nameDict:\n",
    "    nameDict[\"cao\"] = \"曹\"  #新增\n",
    "print(nameDict[\"cao\"])"
   ]
  },
  {
   "cell_type": "markdown",
   "metadata": {},
   "source": [
    "### 字典中的更新操作\n",
    "\n",
    "`d.setdefault`方法的主要特点是更新字典的时候同时**有返回值**。     \n",
    "返回值为已有的键对应的值，如果不存在该键则返回`None`或用户指定的值。"
   ]
  },
  {
   "cell_type": "code",
   "execution_count": 63,
   "metadata": {},
   "outputs": [
    {
     "name": "stdout",
     "output_type": "stream",
     "text": [
      "{'zhang': '章', 'wang': '王', 'zhao': '朝', 'li': '李', 'chen': '陈', 'sun': '吴', 'yan': '闫', 'lu': '鲁', 'guo': '郭', 'geng': '耿'}\n",
      "None 王 孔\n"
     ]
    }
   ],
   "source": [
    "nameDict = {\"zhang\":\"张\", \"wang\":\"王\", \"zhao\":\"赵\", \"li\":\"李\", \"chen\":\"陈\"}\n",
    "nameDict[\"zhang\"] = \"章\"       #如果zhang不存在，则新增键值对\n",
    "nameDict.update({\"zhao\":\"朝\"}) #更新字典已有键值对\n",
    "nameDict.update({\"sun\":\"吴\"})  #对不存在的键值对，则直接添加新键值对\n",
    "nameDict.update([(\"yan\", \"闫\"),(\"lu\",\"鲁\")]) #使用其他可迭代对象更新\n",
    "nameDict.update(guo=\"郭\", geng=\"耿\")\n",
    "print(nameDict)\n",
    "r1 = nameDict.setdefault(\"xie\")       #字典中无xie，添加\"xie\":none键值对同时返回none\n",
    "r2 = nameDict.setdefault(\"wang\", \"汪\")#字典中有wang，所以返回\"王\"，不更新其值\n",
    "r3 = nameDict.setdefault(\"kong\",\"孔\") #字典中无kong，添加\"kong\":\"孔\"键值对同时返回\"孔\"\n",
    "print(r1, r2, r3)"
   ]
  },
  {
   "cell_type": "markdown",
   "metadata": {},
   "source": [
    "### 字典中的删除操作\n",
    "\n",
    "- del d[key]删除key对应的键值对。但如果key不存在会引发KeyError\n",
    "- pop(key[,default])，key对应的键值对不存返回default或引发KeyError  \n",
    "- popitem()，从字典删除键值对，并返回该键值对对应的元组  \n",
    "- clear()，移除字典中所有元素"
   ]
  },
  {
   "cell_type": "code",
   "execution_count": 23,
   "metadata": {},
   "outputs": [
    {
     "name": "stdout",
     "output_type": "stream",
     "text": [
      "{'wang': '王', 'zhao': '赵', 'li': '李', 'chen': '陈'}\n",
      "None\n",
      "{0: 10, 1: 11, 2: 12, 3: 13, 4: 14}\n",
      "{}\n"
     ]
    }
   ],
   "source": [
    "nameDict = {\"zhang\":\"张\", \"wang\":\"王\", \"zhao\":\"赵\", \"li\":\"李\", \"chen\":\"陈\"}\n",
    "if \"zhang\" in nameDict:  #因为del一个不存在键值对会引发KeyError，所以需用in判断一下\n",
    "    del nameDict[\"zhang\"]\n",
    "print(nameDict)\n",
    "\n",
    "if \"zhang\" in nameDict:  #因为zhang对应的键值对不存在，会引发KeyError，所以需要先判断一下\n",
    "    x = nameDict.pop(\"zhang\")   #这句并未执行\n",
    "x = nameDict.pop(\"zhang\", None) #键值对不存在返回用户指定的值None\n",
    "print(x)\n",
    "\n",
    "while len(nameDict) != 0:\n",
    "    item = nameDict.popitem()   #实际上返回的是一个键值对元组\n",
    "    \n",
    "xdict = {x:x+10 for x in range(5)}\n",
    "print(xdict)\n",
    "xdict.clear()\n",
    "print(xdict)\n"
   ]
  },
  {
   "cell_type": "markdown",
   "metadata": {},
   "source": [
    "### 字典的视图对象\n",
    "字典的items()、keys()、values()分别返回了字典的键值对视图对象、键视图对象与值视图对象。\n",
    "\n",
    "通过这些视图对象，可以访问字典中的元素。同时字典中元素的改变，也会影响到视图对象。"
   ]
  },
  {
   "cell_type": "code",
   "execution_count": 27,
   "metadata": {},
   "outputs": [
    {
     "name": "stdout",
     "output_type": "stream",
     "text": [
      "dict_items([('zhang', '张'), ('wang', '王'), ('zhao', '赵'), ('li', '李'), ('chen', '陈')])\n",
      "dict_keys(['zhang', 'wang', 'zhao', 'li', 'chen'])\n",
      "dict_values(['张', '王', '赵', '李', '陈'])\n",
      "字典内容修改后\n",
      "dict_items([('wang', '汪'), ('zhao', '赵'), ('li', '李'), ('chen', '陈')])\n",
      "dict_keys(['wang', 'zhao', 'li', 'chen'])\n",
      "dict_values(['汪', '赵', '李', '陈'])\n"
     ]
    }
   ],
   "source": [
    "def printDict(xdict):\n",
    "    print(xdict.items())\n",
    "    print(xdict.keys())\n",
    "    print(xdict.values())\n",
    "    \n",
    "nameDict = {\"zhang\":\"张\", \"wang\":\"王\", \"zhao\":\"赵\", \"li\":\"李\", \"chen\":\"陈\"}\n",
    "printDict(nameDict)\n",
    "del nameDict[\"zhang\"]\n",
    "nameDict[\"wang\"] = \"汪\"\n",
    "print(\"字典内容修改后\")\n",
    "printDict(nameDict)"
   ]
  },
  {
   "cell_type": "markdown",
   "metadata": {},
   "source": [
    "### 字典的其他方法\n",
    "- d.copy()，对字典d进行浅拷贝"
   ]
  },
  {
   "cell_type": "code",
   "execution_count": 39,
   "metadata": {},
   "outputs": [
    {
     "name": "stdout",
     "output_type": "stream",
     "text": [
      "False\n",
      "nameDict {'zhang': ['章', '张'], 'wang': ['王', '汪']}\n",
      "cloneDict {'zhang': ['章', '张'], 'wang': ['王', '汪']}\n",
      "True\n"
     ]
    }
   ],
   "source": [
    "nameDict = {\"zhang\":[\"章\",\"张\"], \"wang\":[\"王\"]}\n",
    "cloneDict = nameDict.copy()\n",
    "print(id(nameDict) == id(cloneDict)) #id不一致，说明两个字典不是同一个\n",
    "nameDict[\"wang\"].append(\"汪\") #因为copy是浅拷贝，所以更新nameDict的value，也会更新cloneDict\n",
    "print(\"nameDict\",nameDict)\n",
    "print(\"cloneDict\",cloneDict) \n",
    "print(nameDict == cloneDict) #返回True，因为其键值对一致"
   ]
  },
  {
   "cell_type": "markdown",
   "metadata": {},
   "source": [
    "- 使用 `==` 判断两个字典是否相同\n",
    "\n",
    "虽然xdict与ydict打印出来不一样(因为不同的插入顺序)，但其内容相同。  \n",
    "使用 `==` 运算符依然可以判断两个字典是否相同。\n",
    "\n",
    "- sorted函数\n",
    "对字典的键集排序，并返回键列表"
   ]
  },
  {
   "cell_type": "code",
   "execution_count": 41,
   "metadata": {},
   "outputs": [
    {
     "name": "stdout",
     "output_type": "stream",
     "text": [
      "{1: 'a', 2: 'b', 3: 'c'}\n",
      "{3: 'c', 1: 'a', 2: 'b'}\n",
      "True\n",
      "<class 'list'> [1, 2, 3]\n"
     ]
    }
   ],
   "source": [
    "xdict = {1:\"a\", 2:\"b\", 3:\"c\"}\n",
    "ydict = {3:\"c\", 1:\"a\", 2:\"b\"}\n",
    "print(xdict)\n",
    "print(ydict)\n",
    "print(xdict == ydict)\n",
    "x = sorted(ydict)\n",
    "print(type(x), x)"
   ]
  },
  {
   "cell_type": "markdown",
   "metadata": {},
   "source": [
    "## 2.5 字典应用案例"
   ]
  },
  {
   "cell_type": "markdown",
   "metadata": {},
   "source": [
    "### 英文字符统计\n",
    "统计一段英文中每个字符出现的个数（忽略大小写）。并按键排序后输出。  \n",
    "代码中使用了sorted函数，生成了一个新的列表。"
   ]
  },
  {
   "cell_type": "code",
   "execution_count": 75,
   "metadata": {},
   "outputs": [
    {
     "name": "stdout",
     "output_type": "stream",
     "text": [
      "[('\\n', 5), (' ', 41), (',', 4), ('.', 1), (';', 1), ('a', 15), ('b', 2), ('c', 3), ('d', 15), ('e', 29)]\n"
     ]
    }
   ],
   "source": [
    "article = '''\n",
    "There were doors all round the hall, but they were all locked;\n",
    "and when Alice had been all the way down one side and up the\n",
    "other, trying every door, ALICE walked sadly down the middle,\n",
    "wondering how she was ever to get out again.\n",
    "'''\n",
    "article = article.lower()\n",
    "charCounter = {}\n",
    "for e in article:\n",
    "    charCounter[e] = charCounter.get(e, 0) + 1\n",
    "xlist = sorted(list(charCounter.items()), key = lambda x:x[0])\n",
    "print(xlist[0:10])\n"
   ]
  },
  {
   "cell_type": "markdown",
   "metadata": {},
   "source": [
    "### **英文单词统计**\n",
    "统计一段英文中每个单词出现的个数，并按照出现频率降序排序后输出。   \n",
    "代码中使用了list本身的sort排序，这是一种就地排序。为生成新列表。"
   ]
  },
  {
   "cell_type": "code",
   "execution_count": 72,
   "metadata": {},
   "outputs": [
    {
     "name": "stdout",
     "output_type": "stream",
     "text": [
      "('the', 4)\n",
      "('all', 3)\n",
      "('were', 2)\n",
      "('and', 2)\n",
      "('alice', 2)\n",
      "('down', 2)\n",
      "('there', 1)\n",
      "('doors', 1)\n",
      "('round', 1)\n",
      "('hall', 1)\n"
     ]
    }
   ],
   "source": [
    "article = '''\n",
    "There were doors all round the hall, but they were all locked;\n",
    "and when Alice had been all the way down one side and up the\n",
    "other, trying every door, ALICE walked sadly down the middle,\n",
    "wondering how she was ever to get out again.\n",
    "'''\n",
    "article = article.lower()\n",
    "for e in \",;.\":\n",
    "   article = article.replace(e, \" \")\n",
    "wordCounter = {}\n",
    "for word in article.split():\n",
    "    wordCounter[word] = wordCounter.get(word, 0) + 1\n",
    "xlist = list(wordCounter.items())\n",
    "xlist.sort(key = lambda x:x[1], reverse = True)\n",
    "if len(xlist) >= 10:\n",
    "    for i in range(10):\n",
    "        print(xlist[i])\n",
    "else:\n",
    "    for e in xlist:\n",
    "        print(e)"
   ]
  },
  {
   "cell_type": "markdown",
   "metadata": {},
   "source": [
    "### 中文分词、统计及词云"
   ]
  },
  {
   "cell_type": "code",
   "execution_count": null,
   "metadata": {},
   "outputs": [],
   "source": []
  }
 ],
 "metadata": {
  "file_extension": ".py",
  "kernelspec": {
   "display_name": "Python 3",
   "language": "python",
   "name": "python3"
  },
  "language_info": {
   "codemirror_mode": {
    "name": "ipython",
    "version": 3
   },
   "file_extension": ".py",
   "mimetype": "text/x-python",
   "name": "python",
   "nbconvert_exporter": "python",
   "pygments_lexer": "ipython3",
   "version": "3.6.4"
  },
  "mimetype": "text/x-python",
  "name": "python",
  "npconvert_exporter": "python",
  "pygments_lexer": "ipython3",
  "toc": {
   "nav_menu": {},
   "number_sections": true,
   "sideBar": true,
   "skip_h1_title": false,
   "title_cell": "Table of Contents",
   "title_sidebar": "Contents",
   "toc_cell": false,
   "toc_position": {
    "height": "calc(100% - 180px)",
    "left": "10px",
    "top": "150px",
    "width": "266px"
   },
   "toc_section_display": true,
   "toc_window_display": true
  },
  "version": 3
 },
 "nbformat": 4,
 "nbformat_minor": 2
}

{
 "cells": [
  {
   "cell_type": "markdown",
   "metadata": {},
   "source": [
    "# 0. 导入\n",
    "**字符串、列表、元组**均是序列类型，其中的元素均是**有序**排列。  \n",
    "其他容器对象：集合(set)、字典(dict)。\n",
    "\n",
    "**集合:**  \n",
    "集合内的元素\n",
    "- **不可重复**  \n",
    "- **无序排列**\n",
    "    \n",
    "**字典:**  \n",
    "- 存储了**键-值**对。  \n",
    "- 通过键**快速查找**值。 "
   ]
  },
  {
   "cell_type": "markdown",
   "metadata": {},
   "source": [
    "# 1. 集合(set)\n",
    "## 1.1 集合概述\n",
    "包含0个或多个数据元素的无序组合，且元素不可重复。\n",
    "\n",
    "集合内元素用**{}**括起来。"
   ]
  },
  {
   "cell_type": "code",
   "execution_count": 17,
   "metadata": {},
   "outputs": [
    {
     "name": "stdout",
     "output_type": "stream",
     "text": [
      "{'wuxi', 361000, 'beijing', 'xiamen', 'lasa'}\n"
     ]
    }
   ],
   "source": [
    "city = {\"xiamen\", \"beijing\", 361000, \"lasa\", \"wuxi\"}\n",
    "print(city)"
   ]
  },
  {
   "cell_type": "markdown",
   "metadata": {},
   "source": [
    "集合内元素无序，所以打印出来的元素顺序与定义时不一致。"
   ]
  },
  {
   "cell_type": "markdown",
   "metadata": {},
   "source": [
    "**集合主要用途:**\n",
    "1. 成员检测\n",
    "2. 消除重复元素\n",
    "3. 集合的并集、交集、叉集等数学运算"
   ]
  },
  {
   "cell_type": "code",
   "execution_count": 18,
   "metadata": {},
   "outputs": [
    {
     "name": "stdout",
     "output_type": "stream",
     "text": [
      "{361000, 'beijing', 'xiamen'} 集合内元素个数： 5\n",
      "False\n"
     ]
    }
   ],
   "source": [
    "city = {\"xiamen\", \"beijing\", 361000, \"xiamen\", 361000}\n",
    "print(city, \"集合内元素个数：\", len(s))\n",
    "print(\"shang\" in s)"
   ]
  },
  {
   "cell_type": "markdown",
   "metadata": {},
   "source": [
    "## 1.2 集合(set)常见用法\n",
    "使用列表(list)创建集合，并去除了重复元素。  \n",
    "然后使用`in`与`not in`判断指定值是否在集合中。  \n",
    "最后使用`remove`方法删除set中指定元素。"
   ]
  },
  {
   "cell_type": "code",
   "execution_count": 3,
   "metadata": {},
   "outputs": [
    {
     "name": "stdout",
     "output_type": "stream",
     "text": [
      "zhao wang zhang li chen \n",
      "namelist中元素个数为6\n",
      "nameset 中元素个数为5,内容为['zhang', 'wang', 'zhao', 'li', 'wang', 'chen']\n",
      "'zhang'  在nameset中吗? True\n",
      "'zhang'不在nameset中吗? False\n",
      "'张'在nameset中吗? False\n",
      "删除'zhang'后nameset的长度4，内容{'zhao', 'wang', 'li', 'chen'}\n"
     ]
    }
   ],
   "source": [
    "namelist = [\"zhang\",\"wang\",\"zhao\",\"li\",\"wang\",\"chen\"]\n",
    "nameset = set(namelist)\n",
    "for e in nameset:       #遍历nameset\n",
    "    print(e, end = \" \")\n",
    "print()\n",
    "print(\"namelist中元素个数为{}\".format(len(namelist)))\n",
    "print(\"nameset 中元素个数为{},内容为{}\".format(len(nameset),namelist))\n",
    "print(\"'zhang'  在nameset中吗?\", \"zhang\" in nameset)\n",
    "print(\"'zhang'不在nameset中吗?\", \"zhang\" not in nameset)\n",
    "print(\"'张'在nameset中吗?\", \"王\" in nameset)\n",
    "nameset.remove(\"zhang\")\n",
    "print(\"删除'zhang'后nameset的长度{}，内容{}\".format(len(nameset),nameset))"
   ]
  },
  {
   "cell_type": "markdown",
   "metadata": {},
   "source": [
    "**集合的并交叉运算**"
   ]
  },
  {
   "cell_type": "code",
   "execution_count": 9,
   "metadata": {},
   "outputs": [
    {
     "name": "stdout",
     "output_type": "stream",
     "text": [
      "并集为: {1, 2, 3, 4, 5, 6, 7, 8, 9, 10}\n",
      "交集为: {1, 10, 5, 7}\n",
      "在xset但不在yset的元素: {8, 2, 3, 6}\n",
      "在xset或yset，但不在他们的较集中的元素: {2, 3, 4, 6, 8, 9}\n"
     ]
    }
   ],
   "source": [
    "xset = set([1,2,3,5,6,7,8,10]) #创建set\n",
    "yset = set([1,4,5,7,9,10])\n",
    "print(\"并集为:\",xset|yset)   \n",
    "print(\"交集为:\",xset & yset)\n",
    "print(\"在xset但不在yset的元素:\", xset - yset)\n",
    "print(\"在xset或yset，但不在他们的较集中的元素:\", xset^yset)"
   ]
  },
  {
   "cell_type": "markdown",
   "metadata": {},
   "source": [
    "## 1.3 集合的建立与遍历\n",
    "### 1.3.1 集合的建立\n",
    "可使用set()函数或{}进行创建。\n",
    "\n",
    "**1.使用{}可以直接创建**  \n",
    "元素之间用**,**分隔。"
   ]
  },
  {
   "cell_type": "code",
   "execution_count": 18,
   "metadata": {},
   "outputs": [
    {
     "name": "stdout",
     "output_type": "stream",
     "text": [
      "{1, 2, 3} {'b', 1, 2, 'a'}\n"
     ]
    }
   ],
   "source": [
    "xset = {3,1,2,1,2,3}\n",
    "yset = {'a','b',1,2,'a'b}\n",
    "print(xset, yset) #{1, 2, 3} {'b', 1, 2, 'a'}"
   ]
  },
  {
   "cell_type": "markdown",
   "metadata": {},
   "source": [
    "**注意：**不能使用**{}**代表空集合，因为其代表空字典。  \n",
    "需使用set()函数创建空集合。"
   ]
  },
  {
   "cell_type": "code",
   "execution_count": 20,
   "metadata": {},
   "outputs": [
    {
     "name": "stdout",
     "output_type": "stream",
     "text": [
      "<class 'dict'>\n"
     ]
    }
   ],
   "source": [
    "print(type({}))"
   ]
  },
  {
   "cell_type": "markdown",
   "metadata": {},
   "source": [
    "**2.set()函数接受任何可迭代(iterable)对象(str, list, tuple, range等)**"
   ]
  },
  {
   "cell_type": "code",
   "execution_count": 22,
   "metadata": {},
   "outputs": [
    {
     "name": "stdout",
     "output_type": "stream",
     "text": [
      "{'b', 'c', 'a'} {1, 2, 3}\n",
      "{'z', 'x', 'y'} {0, 1, 2, 3, 4}\n",
      "<class 'set'> 0\n"
     ]
    }
   ],
   "source": [
    "xset = set(\"abca\")\n",
    "yset = set([1,2,3])\n",
    "print(xset,yset) # {'b', 'c', 'a'} {1, 2, 3}\n",
    "zset = set((\"x\",\"y\",\"z\"))\n",
    "rset = set(range(5))\n",
    "print(zset,rset) # {'z', 'x', 'y'} {0, 1, 2, 3, 4}\n",
    "emptyset = set() # 创建空字典\n",
    "print(type(emptyset), len(emptyset))"
   ]
  },
  {
   "cell_type": "markdown",
   "metadata": {},
   "source": [
    "**小技巧：**如何判定一个对象是否是可迭代的？\n",
    "使用collections模块中的Iterable类型判断"
   ]
  },
  {
   "cell_type": "code",
   "execution_count": 16,
   "metadata": {},
   "outputs": [
    {
     "name": "stdout",
     "output_type": "stream",
     "text": [
      "True\n",
      "True\n",
      "False\n"
     ]
    }
   ],
   "source": [
    "from collections import Iterable\n",
    "print(isinstance((\"abc\"), Iterable))\n",
    "print(isinstance((range(5)), Iterable))\n",
    "print(isinstance(3.14, Iterable))"
   ]
  },
  {
   "cell_type": "markdown",
   "metadata": {},
   "source": [
    "**3.使用集合推导式创建**"
   ]
  },
  {
   "cell_type": "code",
   "execution_count": 42,
   "metadata": {},
   "outputs": [
    {
     "name": "stdout",
     "output_type": "stream",
     "text": [
      "<class 'set'> {0, 64, 4, 36, 16}\n"
     ]
    }
   ],
   "source": [
    "xset = {x**2 for x in range(10) if x % 2 == 0}\n",
    "print(type(xset),xset)"
   ]
  },
  {
   "cell_type": "markdown",
   "metadata": {},
   "source": [
    "### 1.3.2 集合的遍历"
   ]
  },
  {
   "cell_type": "markdown",
   "metadata": {},
   "source": [
    "集合是可迭代对象，因此可直接使用for循环进行遍历。  "
   ]
  },
  {
   "cell_type": "code",
   "execution_count": 35,
   "metadata": {},
   "outputs": [
    {
     "name": "stdout",
     "output_type": "stream",
     "text": [
      "zhang li chen wang zhao "
     ]
    }
   ],
   "source": [
    "nameset = set([\"zhang\",\"wang\",\"zhao\",\"li\",\"wang\",\"chen\"])\n",
    "for e in nameset:       #遍历nameset\n",
    "    print(e, end = \" \")"
   ]
  },
  {
   "cell_type": "markdown",
   "metadata": {},
   "source": [
    "使用**迭代器**进行遍历。"
   ]
  },
  {
   "cell_type": "code",
   "execution_count": 34,
   "metadata": {},
   "outputs": [
    {
     "name": "stdout",
     "output_type": "stream",
     "text": [
      "zhang li chen wang zhao "
     ]
    }
   ],
   "source": [
    "cityiterator = iter(nameset)\n",
    "for i in range(len(nameset)):\n",
    "    print(next(cityiterator), end = \" \")"
   ]
  },
  {
   "cell_type": "markdown",
   "metadata": {},
   "source": [
    "**注意：**集合中的元素是无序排列的。\n",
    "因此将上述遍历代码存于文件，并多次运行，返回的结果可能不一致。如下图所示：  \n",
    "![set内元素无序排列](set内元素无序排列.png)"
   ]
  },
  {
   "cell_type": "markdown",
   "metadata": {},
   "source": [
    "## 1.4 集合常见方法"
   ]
  },
  {
   "cell_type": "markdown",
   "metadata": {},
   "source": [
    "可以将集合的方法按照**增、删、查、其他**进行分类。如下表所示。  \n",
    "\n",
    "**注:** s为所要操作的集合： \n",
    "<escape>\n",
    "<table>\n",
    "  <tr>\n",
    "    <th>类别</th>\n",
    "    <th>方法</th>\n",
    "    <th>说明</th>\n",
    "  </tr>\n",
    "  <tr>\n",
    "    <td rowspan=\"2\">增</td>\n",
    "    <td>s.add(x)</td>\n",
    "    <td>如果数据项x不在集合s中，将x加入s</td>\n",
    "  </tr>\n",
    "  <tr>\n",
    "    <td>s.update(xset)</td>\n",
    "    <td>在s中添加来自xset中的元素</td>\n",
    "  </tr>\n",
    "  <tr>\n",
    "    <td rowspan=\"4\">删</td>\n",
    "    <td>s.remove(x)</td>\n",
    "    <td>如x在集合s中，则移除；否则，引发KeyError异常</td>\n",
    "  </tr>\n",
    "  <tr>\n",
    "    <td>s.discard(x)</td>\n",
    "    <td>如果x在集合s中，移除该元素；如果x不存在，不报错</td>\n",
    "  </tr>\n",
    "  <tr>\n",
    "    <td>s.pop()</td>\n",
    "    <td>随机返回集合s中的一个元素，如集合为空，引发KeyError异常</td>\n",
    "  </tr>\n",
    "  <tr>\n",
    "    <td>s.clear()</td>\n",
    "    <td>移除S中所有数据项</td>\n",
    "  </tr>\n",
    "  <tr>\n",
    "    <td rowspan=\"2\">查</td>\n",
    "    <td>x in S</td>\n",
    "    <td>如果x是S的元素，返回True，否则返回False</td>\n",
    "  </tr>\n",
    "  <tr>\n",
    "    <td>x not in S</td>\n",
    "    <td>如果x不是S的元素，返回True，否则返回False</td>\n",
    "  </tr>\n",
    "  <tr>\n",
    "    <td rowspan=\"3\">其他</td>\n",
    "    <td>len(s)</td>\n",
    "    <td>返回集合s元素个数</td>\n",
    "  </tr>\n",
    "  <tr>\n",
    "    <td>s.copy()</td>\n",
    "    <td>返回集合S的一个浅拷贝</td>\n",
    "  </tr>\n",
    "  <tr>\n",
    "    <td>isdisjoint, issubset, issuperset</td>\n",
    "    <td>判断两个集合之间的关系的方法</td>\n",
    "  </tr>\n",
    "</table>\n",
    "</escape>"
   ]
  },
  {
   "cell_type": "markdown",
   "metadata": {},
   "source": [
    "**判断两个集合之间的关系的方法或运算符：** \n",
    "\n",
    "方法或运算符|说明\n",
    "-|-\n",
    "s.isdisjoint(xset)|如果集合s中没有与xset中有共同的元素返回`True`\n",
    "s.issubset(xset)|如果s是xset的子集返回`True`\n",
    "s <= xset|判断s是否xset的子集\n",
    "s < xset|判断s是否xset的**真子集**\n",
    "s.issuperset(xset)|判断s是否是xset的超集\n",
    "s >= xset|判断xset是否是s的子集\n",
    "s > xset|判断xset是否是s的**真子集**"
   ]
  },
  {
   "cell_type": "code",
   "execution_count": 24,
   "metadata": {},
   "outputs": [
    {
     "name": "stdout",
     "output_type": "stream",
     "text": [
      "True\n",
      "True\n",
      "True\n",
      "True False\n",
      "True False\n"
     ]
    }
   ],
   "source": [
    "xset = {1,2,3}\n",
    "yset = {1,2,3,4,5}\n",
    "zset = {4,5,6}\n",
    "print(xset.isdisjoint(zset))    #True\n",
    "print(xset.issubset(yset))      #True\n",
    "print(yset.issuperset(xset))    #True\n",
    "print(xset<=yset, xset<{1,2,3}) #True, False\n",
    "print(yset>=xset, xset>{1,2,3}) #True, False"
   ]
  },
  {
   "cell_type": "markdown",
   "metadata": {},
   "source": [
    "## 1.5 集合的数学运算\n",
    "集合支持并集(**|**)、交集(**&**)、差集(**-**)、对称差集(**^**)等数学运算。  \n",
    "集中集合运算的含义如下图所示：\n",
    "\n",
    "![集合的数学运算](集合的数学运算.png)\n"
   ]
  },
  {
   "cell_type": "code",
   "execution_count": 8,
   "metadata": {},
   "outputs": [
    {
     "name": "stdout",
     "output_type": "stream",
     "text": [
      "个数: 10 A|B: {1, 2, 3, 4, 5, 6, 7, 8, 9, 10}\n",
      "A&B {1, 10, 3, 9}\n",
      "A-B {5, 6, 7}\n",
      "A^B {2, 4, 5, 6, 7, 8}\n"
     ]
    }
   ],
   "source": [
    "A = {1,3,5,6,7,9,10}\n",
    "B = {1,2,3,4,8,9,10}\n",
    "print(\"个数:\", len(A|B), \"A|B:\",A|B)\n",
    "print(\"A&B\", A&B) \n",
    "print(\"A-B\", A-B)\n",
    "print(\"A^B\", A^B)"
   ]
  },
  {
   "cell_type": "markdown",
   "metadata": {},
   "source": [
    "并集(**|**)、交集(**&**)、差集(**-**)、对称差集(**^**)是运算符版本的集合运算。  \n",
    "其对对应的非运算符版本的集合运算分别是`union, intersection, difference, symmetric_difference`。"
   ]
  },
  {
   "cell_type": "code",
   "execution_count": 12,
   "metadata": {},
   "outputs": [
    {
     "name": "stdout",
     "output_type": "stream",
     "text": [
      "{1, 2, 3, 4, 5, 6, 7, 8, 9, 10}\n",
      "{1, 10, 3, 9}\n",
      "{5, 6, 7}\n",
      "{2, 4, 5, 6, 7, 8}\n"
     ]
    }
   ],
   "source": [
    "A = {1,3,5,6,7,9,10}\n",
    "B = {1,2,3,4,8,9,10}\n",
    "print(A.union(B))\n",
    "print(A.intersection(B))\n",
    "print(A.difference(B))\n",
    "print(A.symmetric_difference(B))"
   ]
  },
  {
   "cell_type": "markdown",
   "metadata": {},
   "source": [
    "**注意：**不管是运算符或者非运算符版本的集合运算都不会改变原来的集合。"
   ]
  },
  {
   "cell_type": "markdown",
   "metadata": {},
   "source": [
    "## 1.6 集合的应用\n",
    "### 1.6.1 任务随机分配\n",
    "假设有A、B、C、D四项任务需要完成。现在有一份成员名单，名单上有n个成员，每个成员都可以做这4项任务。  \n",
    "希望编写一个算法，每回从名单随机抽取一个成员分配某个任务，并将该成员标注为已分配，下回抽取就不会再  \n",
    "抽到该成员。且分配过程中**不能删除名单中的成员**。 希望整个分配过程尽量保证每个任务分配到的人数基本一致。  \n",
    "请编写程序打印出每个任务分配到的成员情况。"
   ]
  },
  {
   "cell_type": "code",
   "execution_count": 49,
   "metadata": {},
   "outputs": [
    {
     "name": "stdout",
     "output_type": "stream",
     "text": [
      "任务A分配了9个人，他们是[12, 32, 0, 20, 24, 4, 28, 16, 8]\n",
      "任务B分配了9个人，他们是[33, 21, 29, 25, 17, 13, 1, 9, 5]\n",
      "任务C分配了8个人，他们是[26, 10, 22, 14, 2, 18, 6, 30]\n",
      "任务D分配了8个人，他们是[27, 31, 7, 19, 11, 23, 15, 3]\n",
      "没有交集\n"
     ]
    }
   ],
   "source": [
    "import random\n",
    "tasks = [\"A\", \"B\", \"C\", \"D\"]\n",
    "members = list(range(34))\n",
    "result = [[], [], [], []]\n",
    "mset = set()\n",
    "for i in range(len(members)):\n",
    "    while(True):\n",
    "        i = random.randint(0, len(members)-1)\n",
    "        p = members[i]\n",
    "        if p not in mset:\n",
    "            break\n",
    "    mset.add(p)\n",
    "    result[i%4].append(p) \n",
    "for i in range(len(result)):\n",
    "    print(\"任务{}分配了{}个人，他们是{}\".format(tasks[i],len(result[i]), result[i]))\n",
    "isdisjoint = False  #假设他们有交集\n",
    "for i in range(len(result)):\n",
    "    for j in range(i+1,len(result)):\n",
    "        isJoint = set(result[i]).isdisjoint(result[j])\n",
    "print(\"没有交集\" if isJoint else \"有交集\")"
   ]
  },
  {
   "cell_type": "markdown",
   "metadata": {},
   "source": [
    "### 1.6.2 中文分词\n",
    "给定一段中文查看"
   ]
  },
  {
   "cell_type": "markdown",
   "metadata": {},
   "source": [
    "# 2. 字典(dict)\n",
    "## 2.1 字典概述"
   ]
  },
  {
   "cell_type": "markdown",
   "metadata": {},
   "source": [
    "## 常见用法\n",
    "创建、查找、键成员判断、删除。  \n",
    "查看键值、按顺序查查看键值。"
   ]
  },
  {
   "cell_type": "code",
   "execution_count": 7,
   "metadata": {},
   "outputs": [
    {
     "name": "stdout",
     "output_type": "stream",
     "text": [
      "张对应的拼音为: zhang\n",
      "字典内容: {'张': 'ZHANG', '王': 'wang', '赵': 'zhao', '李': 'li', '陈': 'chen'} 键个数: 5\n",
      "删除后'赵'后字典内容: {'张': 'ZHANG', '王': 'wang', '李': 'li', '陈': 'chen'} 键个数: 4\n",
      "字典内容: {'张': 'ZHANG', '王': 'wang', '李': 'li', '陈': 'CHEN'}\n"
     ]
    }
   ],
   "source": [
    "#创建字典\n",
    "namedict = {\"张\":\"zhang\", \"王\":\"wang\", \"赵\":\"zhao\", \"李\":\"li\", \"陈\":\"chen\"}\n",
    "#字典查找\n",
    "print(\"张对应的拼音为:\",namedict[\"张\"])\n",
    "namedict[\"张\"] = \"ZHANG\" #更新\n",
    "print(\"字典内容:\", namedict, \"键个数:\", len(namedict))\n",
    "#删除键\n",
    "del namedict[\"赵\"]\n",
    "print(\"删除后'赵'后字典内容:\", namedict, \"键个数:\", len(namedict))\n",
    "#成员判断\n",
    "name = \"陈\"\n",
    "if name in namedict:\n",
    "    namedict[name] = \"CHEN\"\n",
    "print(\"字典内容:\", namedict)"
   ]
  },
  {
   "cell_type": "code",
   "execution_count": null,
   "metadata": {},
   "outputs": [],
   "source": []
  }
 ],
 "metadata": {
  "file_extension": ".py",
  "kernelspec": {
   "display_name": "Python 3",
   "language": "python",
   "name": "python3"
  },
  "language_info": {
   "codemirror_mode": {
    "name": "ipython",
    "version": 3
   },
   "file_extension": ".py",
   "mimetype": "text/x-python",
   "name": "python",
   "nbconvert_exporter": "python",
   "pygments_lexer": "ipython3",
   "version": "3.7.4"
  },
  "mimetype": "text/x-python",
  "name": "python",
  "npconvert_exporter": "python",
  "pygments_lexer": "ipython3",
  "toc": {
   "nav_menu": {},
   "number_sections": true,
   "sideBar": true,
   "skip_h1_title": false,
   "title_cell": "Table of Contents",
   "title_sidebar": "Contents",
   "toc_cell": false,
   "toc_position": {},
   "toc_section_display": true,
   "toc_window_display": false
  },
  "version": 3
 },
 "nbformat": 4,
 "nbformat_minor": 4
}
